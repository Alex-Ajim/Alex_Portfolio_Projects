{
  "cells": [
    {
      "cell_type": "markdown",
      "source": [
        "# Abstract"
      ],
      "metadata": {
        "id": "0thIko4n0T8C"
      }
    },
    {
      "cell_type": "markdown",
      "source": [
        "\n",
        "This project addresses the multi-objective network routing problem, aiming to optimize transmission rates and minimize latency across network nodes. This challenge lies at the intersection of network design and algorithm efficiency, offering a rich area for innovation. The NSGA-II algorithm was implemented from scratch to solve the problem, and a novel approach was introduced by developing a modified variant of the (μ+λ)-PAES algorithm. Unlike the original version, which maintains a constant population size, the modified PAES algorithm allows for retaining as many non-dominated solutions as possible across generations.  \n",
        "\n",
        "Additionally, two new mutation methods were developed: a modified swap mutation and a latency-reducing mutation, both designed to enhance the quality of solutions. Results indicate that the modified PAES algorithm outperforms NSGA-II in generating a higher number of non-dominated solutions, albeit with a trade-off in computational time. The modifications made to the PAES algorithm, along with the specialized mutations, likely contributed to its success in outperforming NSGA-II in terms of the number of non-dominated solutions. These findings demonstrate the viability of the customized PAES algorithm in achieving superior performance metrics, paving the way for further research into efficient multi-objective optimization strategies.  "
      ],
      "metadata": {
        "id": "vZpFVZtvRD94"
      }
    },
    {
      "cell_type": "markdown",
      "source": [
        "# Problem Statement"
      ],
      "metadata": {
        "id": "yMkEED-N0Tr6"
      }
    },
    {
      "cell_type": "markdown",
      "source": [
        "**Introduction**  \n",
        "\n",
        "The problem involves optimizing vehicle routing for efficient network communication, a real-world challenge in discrete multi-objective optimization. The objectives to be optimized simultaneously are:  \n",
        "\n",
        "1. **Maximizing the end-to-end data transmission rate.**  \n",
        "2. **Minimizing the end-to-end latency.**  \n",
        "\n",
        "---\n",
        "\n",
        " **Decision Variables**  \n",
        "\n",
        "- The sequence of vehicles (nodes) that form the path from the source vehicle to any of the base stations (BS-1 or BS-2).  \n",
        "- The transmission rates and latency for each link in the path.  \n",
        "\n",
        "---\n",
        "\n",
        "**Objective 1**: Maximize the End-to-End Data Transmission Rate  \n",
        "\n",
        "Using the table that defines the transmission rate based on the distance between vehicles, the transmission rate for each link is calculated. The end-to-end transmission rate for a path is the minimum transmission rate of its individual links.  \n",
        "\n",
        "* <img src='https://drive.google.com/uc?id=199KsmACagpzYDvedSfmJUoDKAEu66tvc' width='350'>  \n",
        "\n",
        "---\n",
        "\n",
        "**Objective 2**: Minimize the End-to-End Latency  \n",
        "\n",
        "Each link has a fixed delay of 50 milliseconds. The end-to-end latency is calculated as the sum of the delays for all links in the path.  \n",
        "\n",
        "* <img src='https://drive.google.com/uc?id=1jIHa6KypeQGdMPhzqDVC_URRqjHFWY92' width='350'>  \n",
        "\n",
        "---\n",
        "**Constraints**  \n",
        "\n",
        "- The distance between two nodes (vehicles or base stations) must not exceed 6000 meters to establish a direct connection.  \n",
        "- Each path must start at a vehicle and end at a base station.  \n",
        "- Nodes (vehicles) can serve as relay nodes but cannot be visited more than once in a path to avoid loops.  \n",
        "- The total number of nodes in a path, including the source vehicle and the base station, must be finite.  \n",
        "\n",
        "---\n",
        "\n",
        "**Parameters**  \n",
        "\n",
        "- Transmission rates are predefined based on the distance between nodes. The table below, provided in the assignment brief, outlines the transmission rate based on the distance between two nodes:  \n",
        "\n",
        "  * <img src='https://drive.google.com/uc?id=1ToG_4KG1XoI7O50ha1wXzzlKJyO-FfSl' width='400'>  \n",
        "\n",
        "- Latency is a fixed value per link.  \n",
        "\n",
        "---\n",
        "\n",
        "**Assumptions**  \n",
        "\n",
        "- The network is undirected, meaning a link can operate in either direction (e.g., from Car-4 to Car-5 or from Car-5 to Car-4).  \n",
        "\n",
        "---\n",
        "\n",
        " **Example Demonstration**  \n",
        "\n",
        "The graph below is a simplified version of the actual network. This example is adapted from the mock assessment.  \n",
        "\n",
        "* <img src='https://drive.google.com/uc?id=1z8AklbgonaU5FNiJGc4XZYEgXoA7MU1f' width='500'>  \n",
        "\n",
        "For Car-9, following the green path:  \n",
        "\n",
        "- **Transmission rate** = min(4, 4, 4, 4, 6) = 4 Mbps  \n",
        "- **Latency** = 50 X n = 50 X 5 = 250ms"
      ],
      "metadata": {
        "id": "Fls4oeGjdDhK"
      }
    },
    {
      "cell_type": "markdown",
      "source": [
        "**Project Objectives**  \n",
        "\n",
        "Based on the outlined problem, the objectives of this project are as follows:  \n",
        "\n",
        "1. Review potential methods suitable for solving the discrete multi-objective optimization problem.  \n",
        "2. Identify two methods to address the problem and provide justification for their selection.  \n",
        "3. Implement the two identified methods.  \n",
        "4. Generate the routes using the two selected methods.  \n",
        "5. Evaluate and compare the performance of the two methods using multiple metrics.  \n",
        "6. Provide recommendations based on the evaluation conducted.  "
      ],
      "metadata": {
        "id": "ZszA_b3nG0mq"
      }
    },
    {
      "cell_type": "markdown",
      "source": [
        "# Methodology"
      ],
      "metadata": {
        "id": "Ow60rYKU0Thh"
      }
    },
    {
      "cell_type": "markdown",
      "source": [
        "## Potential Methods"
      ],
      "metadata": {
        "id": "2vEwNM2y0S-r"
      }
    },
    {
      "cell_type": "markdown",
      "source": [
        "The given problem is a multi-objective optimization problem, directing the focus toward potential methods for solving such problems.  \n",
        "\n",
        "Multi-objective problems involve the simultaneous optimization of multiple, often conflicting, objectives. The solution to a multi-objective problem is represented as a set of trade-offs, known as the Pareto front, which provides the most balanced compromise between the competing objectives (Deb, 2011).  \n",
        "\n",
        "Two general approaches are commonly used to address multi-objective optimization problems:  \n",
        "1. **Classical (Traditional) Methods**  \n",
        "2. **Evolutionary (Modern) Methods**  "
      ],
      "metadata": {
        "id": "8y_VA-_L3FY4"
      }
    },
    {
      "cell_type": "markdown",
      "source": [
        "**Classic or Traditional Methods**  \n",
        "\n",
        "Classical methods for solving multi-objective optimization problems typically involve converting multiple objectives into a single objective using various techniques. The goal is to find a solution that optimally balances all objectives when considered together. According to Gunantara and Ai (2018), Deb (2011), and Xiujuan and Zhongke (2004), the following approaches are commonly used in classical methods:  \n",
        "\n",
        "1. **Weighted Sum Method**  \n",
        "   - Each objective is multiplied by a user-defined weight, and the results are summed to form a single scalar objective.  \n",
        "   - The weights reflect the importance of each objective.  \n",
        "   - A significant drawback is the need to define weights beforehand, which can be challenging when the relative importance of objectives is uncertain.  \n",
        "\n",
        "2. **ɛ-constraint Method**  \n",
        "   - One objective is optimized, while the remaining objectives are converted into constraints with specified thresholds (epsilon).  \n",
        "   - Varying epsilon values generates different solutions along the Pareto front.  \n",
        "   - This method requires solving multiple optimization problems and is sensitive to the choice of epsilon values.  \n",
        "\n",
        "3. **Goal Programming**  \n",
        "   - The decision-maker specifies a goal for each objective.  \n",
        "   - The optimization minimizes the deviations from these goals.  \n",
        "   - This method is particularly useful when the decision-maker has clear preferences or targets for the objectives.  \n",
        "\n",
        "4. **Lexicographic Method**  \n",
        "   - Objectives are prioritized in a hierarchical order.  \n",
        "   - The optimization satisfies the highest-priority objective first, considering the next priority only if multiple solutions exist.  \n",
        "   - This method is effective when there is a clear hierarchy of importance among objectives.  \n",
        "\n",
        "5. **Utility Function Method**  \n",
        "   - A utility function is constructed to reflect the decision-maker's preferences.  \n",
        "   - The optimization maximizes this utility function, which combines all objectives into a single composite metric.  \n",
        "   - Designing an appropriate utility function can be complex and subjective.  "
      ],
      "metadata": {
        "id": "aWGqTlo83j9x"
      }
    },
    {
      "cell_type": "markdown",
      "source": [
        "**Evolutionary Methods**  \n",
        "\n",
        "Evolutionary algorithms, a subset of evolutionary computation techniques, are particularly well-suited for multi-objective optimization problems. These methods excel at searching for multiple solutions in parallel, avoiding the need to compromise one objective in favor of another. They inherently handle trade-offs between competing objectives and evolve a set of optimal solutions (a Pareto front) over successive iterations. According to Gunantara and Ai (2018), Deb (2011), and Xiujuan and Zhongke (2004), the following evolutionary algorithms are commonly used for multi-objective optimization:  \n",
        "\n",
        "1. **Non-dominated Sorting Genetic Algorithm-II (NSGA-II)**  \n",
        "   - NSGA-II is a widely popular evolutionary algorithm for multi-objective optimization.  \n",
        "   - It employs mechanisms such as non-dominated sorting and crowding distance to identify and maintain a diverse front of Pareto-optimal solutions.  \n",
        "\n",
        "2. **Multi-objective Particle Swarm Optimization (MOPSO)**  \n",
        "   - MOPSO is an adaptation of Particle Swarm Optimization (PSO) for multi-objective problems.  \n",
        "   - It maintains a repository of the best solutions representing the Pareto front and uses a leader selection mechanism to guide particles toward the Pareto-optimal set.  \n",
        "   - To apply this method to the problem, particles would need to be represented in binary form (e.g., 0, 1, 0, 1, 1), and the concept of particle movement would involve techniques such as softmax.  \n",
        "\n",
        "3. **Strength Pareto Evolutionary Algorithm 2 (SPEA2)**  \n",
        "   - SPEA2 maintains an external population to store non-dominated solutions found during the search.  \n",
        "   - Its fitness assignment strategy considers both the dominance (strength) and density (distance to the nearest neighbors) of solutions.  \n",
        "\n",
        "4. **Pareto Archived Evolution Strategy (PAES)**  \n",
        "   - PAES is an evolutionary strategy that archives non-dominated solutions.  \n",
        "   - Candidate solutions are compared to archived solutions using Pareto dominance, with decisions based on dominance and diversity.  \n",
        "   - There are three variants of PAES:  \n",
        "     - **Basic PAES** ((1+1)-PAES)  \n",
        "     - **Adaptive Grid PAES** ((1+λ)-PAES)  \n",
        "     - **Two-Archive PAES** ((μ+λ)-PAES)  \n",
        "\n",
        "5. **Distance-based Pareto Genetic Algorithm (DPGA)**  \n",
        "   - DPGA is a variant of the traditional Genetic Algorithm (GA) adapted for multi-objective optimization.  \n",
        "   - It incorporates Pareto optimality into the GA framework and employs a distance-based approach to maintain population diversity and guide the selection process toward the Pareto-optimal front.  "
      ],
      "metadata": {
        "id": "zYv8OAHx8i6D"
      }
    },
    {
      "cell_type": "markdown",
      "source": [
        "## Methods used and Justification"
      ],
      "metadata": {
        "id": "z5R5XJ1Y3FAA"
      }
    },
    {
      "cell_type": "markdown",
      "source": [
        "Two methods, NSGA-II and PAES, were adopted to address this problem for the following reasons:  \n",
        "\n",
        "---\n",
        "\n",
        "**1. Multi-Objective Nature of the Problem**  \n",
        "- The problem involves optimizing two conflicting objectives: maximizing transmission rate and minimizing latency.  \n",
        "- Multi-objective evolutionary algorithms, such as NSGA-II and PAES, excel in handling such scenarios.  \n",
        "- The problem's complex search space with multiple Pareto-optimal solutions makes traditional single-objective optimization methods less effective.  \n",
        "\n",
        "---\n",
        "\n",
        "**2. Strengths of NSGA-II**  \n",
        "- NSGA-II is well-suited for problems with complex Pareto fronts due to its:  \n",
        "  - **Fast non-dominated sorting approach**: Efficiently ranks solutions based on Pareto dominance.  \n",
        "  - **Crowding distance mechanism**: Maintains diversity in the solution population.  \n",
        "- It is known for efficiently converging toward the true Pareto front, making it ideal for finding a diverse set of high-quality solutions.  \n",
        "- NSGA-II incorporates elitism, ensuring that the best solutions from each generation are carried forward to the next, enhancing the algorithm's capability to find optimal solutions over iterations.  \n",
        "\n",
        "---\n",
        "\n",
        "**3. Strengths of PAES**  \n",
        "- The (μ+λ)-PAES variant, modified for this problem, is particularly effective in maintaining diversity within the solution set and avoiding premature convergence.  \n",
        "- PAES is well-suited for exploring trade-offs between the conflicting objectives of maximizing transmission rate and minimizing latency.  \n",
        "- Its local search capability allows for thorough exploration of the solution space, especially beneficial for problems with numerous optimal paths for a given node (car).  \n",
        "\n",
        "---\n",
        "\n",
        "**4. Complementarity of Both Algorithms**  \n",
        "- NSGA-II offers robust global search capabilities, while PAES provides effective local search.  \n",
        "- Together, they complement each other, ensuring a comprehensive exploration of the solution space.  \n",
        "\n",
        "---\n",
        "\n",
        "**5. Discrete Nature of the Problem**  \n",
        "- The discrete nature of the problem aligns well with the strengths of both NSGA-II and PAES, which are designed to handle discrete optimization problems effectively.  "
      ],
      "metadata": {
        "id": "IVULbvnIKvzW"
      }
    },
    {
      "cell_type": "markdown",
      "source": [
        "## Loading of Data"
      ],
      "metadata": {
        "id": "cD93F7umWYy8"
      }
    },
    {
      "cell_type": "markdown",
      "source": [
        "### Import Libraries"
      ],
      "metadata": {
        "id": "d0d2m1E9kCjR"
      }
    },
    {
      "cell_type": "markdown",
      "source": [
        "All necessary libraries required for the project are imported in this section."
      ],
      "metadata": {
        "id": "Hxgw5KCHWiMC"
      }
    },
    {
      "cell_type": "code",
      "execution_count": null,
      "metadata": {
        "id": "638czcGutuQP"
      },
      "outputs": [],
      "source": [
        "import pandas as pd\n",
        "import random\n",
        "from random import shuffle, choice, sample\n",
        "import matplotlib.pyplot as plt\n",
        "import math\n",
        "from itertools import combinations\n",
        "from copy import deepcopy\n",
        "import json\n",
        "import re\n",
        "import numpy as np\n",
        "import time\n",
        "import pandas as pd\n",
        "from IPython.display import display, HTML\n",
        "from tabulate import tabulate\n",
        "import plotly.graph_objs as go\n",
        "from plotly.offline import iplot\n",
        "import matplotlib.pyplot as plt\n",
        "from tqdm import tqdm"
      ]
    },
    {
      "cell_type": "markdown",
      "source": [
        "### Transform data to Coordinates\n"
      ],
      "metadata": {
        "id": "0k_wzjyVdfkW"
      }
    },
    {
      "cell_type": "markdown",
      "source": [
        "- The data has been securely uploaded to Dropbox (original version without headers), eliminating the need to upload the file here.  \n",
        "- A function is created to read the coordinates from the uploaded Excel file.  \n",
        "- Finally, the base station coordinates are appended to the existing coordinates.  "
      ],
      "metadata": {
        "id": "eN9sWaUhhP0b"
      }
    },
    {
      "cell_type": "code",
      "source": [
        "## Function to read coordinates from excel file\n",
        "def read_coordinates_from_excel(url):\n",
        "    # Read the Excel file into a pandas DataFrame\n",
        "    df = pd.read_csv(url, header=None)\n",
        "\n",
        "    # Assign column names for easier reference\n",
        "    df.columns = ['ID', 'X', 'Y']\n",
        "\n",
        "    # Extract the coordinates columns\n",
        "    coordinates = df[['X', 'Y']].values.tolist()  # Assuming the columns are labeled 'x' and 'y'\n",
        "    return coordinates\n",
        "\n",
        "# URL to the Excel file on Dropbox\n",
        "file_url = 'https://www.dropbox.com/scl/fi/82uf6jo5vpll8wpu56wgm/data_file.csv?rlkey=f59rgv0ksv3ug8puwtmzrbeoa&dl=1'  # Make sure to have the 'dl=1' parameter for direct download\n",
        "coordinates = read_coordinates_from_excel(file_url)\n",
        "\n",
        "# Append the base station coordinates\n",
        "coordinates.append((-1, -1))  # Coordinates for BS-1\n",
        "coordinates.append((56325, 9))  # Coordinates for BS-2\n"
      ],
      "metadata": {
        "id": "M-XofMMpdfkY"
      },
      "execution_count": null,
      "outputs": []
    },
    {
      "cell_type": "markdown",
      "metadata": {
        "id": "kqWJ75gidzNf"
      },
      "source": [
        "### Network class"
      ]
    },
    {
      "cell_type": "markdown",
      "source": [
        "- A method was created to calculate the transmission rate based on the distance between nodes.  \n",
        "- A function for calculating the distance between two points was implemented.  \n",
        "- A function was developed to create a network link between two nodes, provided the distance between them is not zero. Each link was added to a list called **`Network_links_list`**, which stores all the available links in the network.  \n",
        "- Finally, the network was visualized.  "
      ],
      "metadata": {
        "id": "3Nd_UNdbybLX"
      }
    },
    {
      "cell_type": "code",
      "execution_count": null,
      "metadata": {
        "colab": {
          "base_uri": "https://localhost:8080/",
          "height": 641
        },
        "outputId": "b5b125f3-65dc-4636-9873-fd3ad8a74fe3",
        "id": "61tfL7k1dzNg"
      },
      "outputs": [
        {
          "output_type": "display_data",
          "data": {
            "text/plain": [
              "<Figure size 900x700 with 1 Axes>"
            ],
            "image/png": "[encoded data removed]"
          },
          "metadata": {}
        }
      ],
      "source": [
        "## Creating a class for the Network links\n",
        "class NetworkLink():\n",
        "\n",
        "    def __init__(self, start_node, end_node, distance, transmission_rate):\n",
        "        self.start_node = start_node\n",
        "        self.end_node = end_node\n",
        "        self.distance = distance\n",
        "        self.transmission_rate = transmission_rate\n",
        "        self.latency = 50\n",
        "\n",
        "    @staticmethod #calculate_transmission_rate was created as a static method just incase we need it later\n",
        "    def calculate_transmission_rate(distance):\n",
        "        if distance >= 6000:\n",
        "            return 0\n",
        "        elif 6000 > distance >= 4000:\n",
        "            return 1\n",
        "        elif 4000 > distance >= 3000:\n",
        "            return 2\n",
        "        elif 3000 > distance >= 2000:\n",
        "            return 4\n",
        "        elif 2000 > distance >= 1000:\n",
        "            return 6\n",
        "        elif 1000 > distance >= 500:\n",
        "            return 8\n",
        "        else:\n",
        "            return 10\n",
        "\n",
        "\n",
        "# Function to calculate distance between two points\n",
        "def calculate_distance(point1, point2):\n",
        "    return math.sqrt((point2[0] - point1[0]) ** 2 + (point2[1] - point1[1]) ** 2)\n",
        "\n",
        "# Function to create network links\n",
        "def create_network_links(coordinates):\n",
        "    network_links_list = []\n",
        "    for i in range(len(coordinates)):\n",
        "        for j in range(i+1, len(coordinates)):\n",
        "            distance = calculate_distance(coordinates[i], coordinates[j])\n",
        "            transmission_rate = NetworkLink.calculate_transmission_rate(distance)\n",
        "            if transmission_rate > 0:\n",
        "                start_node = 'Car-' + str(i+1) if i < len(coordinates) - 2 else 'BS-1' if i == len(coordinates) - 2 else 'BS-2'\n",
        "                end_node = 'Car-' + str(j+1) if j < len(coordinates) - 2 else 'BS-1' if j == len(coordinates) - 2 else 'BS-2'\n",
        "                network_links_list.append(NetworkLink(start_node, end_node, distance, transmission_rate))\n",
        "    return network_links_list\n",
        "\n",
        "## function to Visualize the network\n",
        "def visualize_network(coordinates, network_links_list):\n",
        "\n",
        "    # Visualize the network\n",
        "    plt.figure(figsize=(9, 7))\n",
        "    # Plot the base stations\n",
        "    plt.scatter(-1, -1, color='red', label='BS-1')\n",
        "    plt.scatter(56325, 9, color='green', label='BS-2')\n",
        "\n",
        "    # Plot the cars\n",
        "    car_coords = coordinates[:-2]  # Exclude base stations\n",
        "    xs, ys = zip(*car_coords)\n",
        "    plt.scatter(xs, ys, color='blue', label='Cars')\n",
        "\n",
        "    # # Draw the links\n",
        "    # for link in network_links_list:\n",
        "    #     # Find the indices in the coordinates list for start and end nodes\n",
        "    #     start_idx = int(link.start_node.split('-')[1]) - 1\n",
        "    #     end_idx = int(link.end_node.split('-')[1]) - 1\n",
        "    #     plt.plot([coordinates[start_idx][0], coordinates[end_idx][0]],\n",
        "    #              [coordinates[start_idx][1], coordinates[end_idx][1]], 'k-') #([x1, x2], [y1,y2])\n",
        "\n",
        "    plt.xlabel('X Coordinate')\n",
        "    plt.ylabel('Y Coordinate')\n",
        "    plt.legend()\n",
        "    plt.title('Network Visualization')\n",
        "    plt.show()\n",
        "\n",
        "\n",
        "## Create Network_links_list\n",
        "network_links_list = create_network_links(coordinates)\n",
        "\n",
        "## Visualize the network\n",
        "visualize_network(coordinates, network_links_list)\n",
        "\n"
      ]
    },
    {
      "cell_type": "markdown",
      "source": [
        "Testing to be sure everything is fine"
      ],
      "metadata": {
        "id": "O1RXmAkOdzNg"
      }
    },
    {
      "cell_type": "code",
      "source": [
        "## Checking the length of network_link_list\n",
        "\n",
        "len(network_links_list)"
      ],
      "metadata": {
        "colab": {
          "base_uri": "https://localhost:8080/"
        },
        "outputId": "b8f4c039-2ee6-4359-917c-d996e066aca2",
        "id": "Fdq5PEAIdzNg"
      },
      "execution_count": null,
      "outputs": [
        {
          "output_type": "execute_result",
          "data": {
            "text/plain": [
              "988"
            ]
          },
          "metadata": {},
          "execution_count": 15
        }
      ]
    },
    {
      "cell_type": "code",
      "source": [
        "## Randomly checking links\n",
        "\n",
        "((network_links_list[0].start_node,\n",
        " network_links_list[0].end_node,\n",
        " network_links_list[0].transmission_rate),\n",
        "\n",
        "(network_links_list[1].start_node,\n",
        "network_links_list[1].end_node,\n",
        "network_links_list[1].transmission_rate))"
      ],
      "metadata": {
        "colab": {
          "base_uri": "https://localhost:8080/"
        },
        "outputId": "e4b62c73-1ff2-4981-daa3-399238bd66bf",
        "id": "-QMhs1XWdzNh"
      },
      "execution_count": null,
      "outputs": [
        {
          "output_type": "execute_result",
          "data": {
            "text/plain": [
              "(('Car-1', 'Car-2', 6), ('Car-1', 'Car-3', 2))"
            ]
          },
          "metadata": {},
          "execution_count": 16
        }
      ]
    },
    {
      "cell_type": "code",
      "source": [
        "## Randomly checking links\n",
        "\n",
        "((network_links_list[986].start_node,\n",
        " network_links_list[986].end_node,\n",
        " network_links_list[986].transmission_rate),\n",
        "\n",
        "(network_links_list[987].start_node,\n",
        "network_links_list[987].end_node,\n",
        "network_links_list[987].transmission_rate))"
      ],
      "metadata": {
        "colab": {
          "base_uri": "https://localhost:8080/"
        },
        "outputId": "37ecdd5b-b3eb-4fcd-8409-28583d51f40f",
        "id": "Ovpnf0PAdzNh"
      },
      "execution_count": null,
      "outputs": [
        {
          "output_type": "execute_result",
          "data": {
            "text/plain": [
              "(('Car-99', 'BS-2', 10), ('Car-100', 'BS-2', 10))"
            ]
          },
          "metadata": {},
          "execution_count": 17
        }
      ]
    },
    {
      "cell_type": "markdown",
      "source": [
        "## GENETIC ALGORITHM"
      ],
      "metadata": {
        "id": "uKfSD2r6c5FC"
      }
    },
    {
      "cell_type": "markdown",
      "source": [
        "### Explanation"
      ],
      "metadata": {
        "id": "--9J0OTP9jE5"
      }
    },
    {
      "cell_type": "markdown",
      "source": [
        "The NSGA-II algorithm was implemented from scratch to address this problem.\n",
        "\n",
        "Before detailing the steps of the Non-dominated Sorting Genetic Algorithm (NSGA-II), the following concepts are explained to provide clarity on the approach:\n",
        "\n",
        "---\n",
        "\n",
        "**Dominance**  \n",
        "In multi-objective optimization, solutions are compared based on dominance.  \n",
        "\n",
        "A solution \\( x_1 \\) is said to dominate a solution \\( x_2 \\) if:  \n",
        "- \\( x_1 \\) is better than \\( x_2 \\) in at least one objective, and  \n",
        "- \\( x_1 \\) is no worse than \\( x_2 \\) in all objectives.  \n",
        "\n",
        "**Example**:  \n",
        "If a solution \\( x_1 \\) has a transmission rate of 6 Mbps and a latency score of 50 ms, while solution \\( x_2 \\) has a transmission rate of 4 Mbps and a latency score of 100 ms, then \\( x_1 \\) dominates \\( x_2 \\). This is because \\( x_1 \\) has both a better transmission rate and latency than \\( x_2 \\).  \n",
        "\n",
        "---\n",
        "\n",
        "**Pareto Fronts**  \n",
        "If a solution \\( x_1 \\) dominates \\( x_2 \\) in one objective and \\( x_2 \\) dominates \\( x_1 \\) in another, both solutions are considered to belong to the same Pareto front.  \n",
        "\n",
        "In a solution set, multiple Pareto fronts may exist, typically grouped as Pareto front 1, Pareto front 2, Pareto front 3, and so on.  \n",
        "\n",
        "**Example**:  \n",
        "If \\( x_1 \\) has a transmission rate of 4 Mbps and a latency score of 200 ms, and \\( x_2 \\) has a transmission rate of 2 Mbps and a latency score of 50 ms, \\( x_1 \\) and \\( x_2 \\) belong to the same Pareto front. This is because \\( x_1 \\) has a better transmission rate, while \\( x_2 \\) has a better latency.  \n",
        "\n",
        "---\n",
        "\n",
        "**Non-dominated Solution Set**  \n",
        "Given a set of solutions, the non-dominated solution set consists of all solutions that are not dominated by any other solution in the set.  \n",
        "\n",
        "---\n",
        "\n",
        "**Graphical Representation**  \n",
        "\n",
        "Consider \\( f_1 \\) as the transmission rate and \\( f_2 \\) as the latency in the diagram below:  \n",
        "\n",
        "<img src='https://drive.google.com/uc?id=1dC49GIbJ7fsM7c54wOjPFOiVCjXrQ0gl' width='500'>  \n",
        "\n",
        "- Solution 3 dominates solutions 1, 4, and 2. Additionally, solution 4 dominates solution 2.  \n",
        "- Solutions 1 and 4 belong to Pareto front 2 (\\( F_2 \\)). Solutions 3 and 5 belong to Pareto front 1 (\\( F_1 \\)). Solution 2 belongs to Pareto front 3 (\\( F_3 \\)).  \n",
        "- Solutions 3 and 5 constitute the non-dominated solution set.  "
      ],
      "metadata": {
        "id": "W_xU7d9utbjV"
      }
    },
    {
      "cell_type": "markdown",
      "source": [
        "**Steps for the NSGA-II Adopted**  \n",
        "\n",
        "The steps for the NSGA-II algorithm are based on the explanation by Deb et al. (2002).  \n",
        "\n",
        "<img src='https://drive.google.com/uc?id=1XddOiMVYmovhzr-pp4tZhi6CpDNwhdWr' width='600'>  \n",
        "\n",
        "---\n",
        "\n",
        "**Breakdown of the Steps and Their Implementation**  \n",
        "\n",
        "**1. Step 1: Randomly Generate the First Generation of Size N**  \n",
        "- A function called **`create_feasible_solution`** was created to ensure that randomly generated solutions fall within the feasible solution space.  \n",
        "- The method attempts to create a route from a starting node to one of the base stations ('BS'), represented as a path in the network. The process is as follows:  \n",
        "\n",
        "  1. **Initialize the Route**: Start with an empty route and a list of visited nodes, beginning with the starting node.  \n",
        "  2. **Extend the Route**: Continuously extend the route from the current node until a base station is reached, or terminate the process if it takes too long.  \n",
        "  3. **Check Feasible Links**: At each step, identify links that can extend the route without revisiting nodes already in `used_nodes`.  \n",
        "  4. **Handle Dead Ends with Backtracking**: If no extension is possible, backtrack one step (remove the last link and node) and try an alternative path. If backtracking is not possible (no previous steps), terminate and return `None`.  \n",
        "  5. **Choose the Next Link and Update the Route**: If feasible next steps exist, select the first one, add it to the route, and mark the link as part of the solution.  \n",
        "  6. **Terminate on Reaching a Base Station**: Once a base station is reached, return the chromosome and the routing path (`used_nodes`) that form the route.  \n",
        "\n",
        "---\n",
        "\n",
        "**2. Step 2: Calculate the Objective Functions for the First Generation**  \n",
        "- A function named **`calculate_fitness`** was implemented to compute the transmission rate and latency for individuals in the population. The computed values are stored in a dictionary. The process is as follows:  \n",
        "\n",
        "  1. **Initialize Fitness Metrics**: Start with the highest possible transmission rate and zero latency.  \n",
        "  2. **Traverse the Chromosome**: Loop through the chromosome of the individual to identify which links are part of the solution (1 indicates the link is part of the routing path, 0 indicates it is not).  \n",
        "  3. **Update Transmission Rate**: For each link in the solution, update the transmission rate to the lowest rate found in the path.  \n",
        "  4. **Count the Links**: Track the number of links in the solution to calculate total latency.  \n",
        "  5. **Calculate Total Latency**: Multiply the number of links by 50 to compute total latency.  \n",
        "\n",
        "---  \n"
      ],
      "metadata": {
        "id": "VjA6s2vqtmyk"
      }
    },
    {
      "cell_type": "markdown",
      "source": [
        "**3. Step 3: Sort the Population into Fronts Using the Non-Dominated Sorting Algorithm**  \n",
        "\n",
        "This step involves sorting the individuals in the population into different fronts or levels F1, F2, F3, F4 , etc., based on their dominance levels. F1 represents the best level, F2 the next best, and so on.  \n",
        "\n",
        "<img src='https://drive.google.com/uc?id=1vpW5HHyl4kyWicrtux_B7VfCGPy7AW3m' width='500'>  \n",
        "\n",
        "The image below, adapted from Seshadri (2006), explains the fast non-dominated sorting algorithm used to categorize the population into different fronts.  \n",
        "\n",
        "<img src='https://drive.google.com/uc?id=1YdGaaFKoONg8mB0ICWUtlA-BTS5osd8K' width='700'>  \n",
        "\n",
        "To implement this, the function **`fast_non_dominated_sort`** was created. Below is a brief explanation of the steps involved:  \n",
        "\n",
        "1. **Initialize Fronts**: Start with an empty list to hold the first front of non-dominated solutions.  \n",
        "2. **Assign Domination**: For each solution in the population, count how many other solutions dominate it and record which solutions it dominates.  \n",
        "3. **Identify the First Front**: Solutions with a domination count of 0 (meaning no solution dominates them) are assigned the highest rank F1 and placed in the first front.  \n",
        "4. **Form Subsequent Fronts**: For each solution in the current front, iteratively reduce the domination count of the solutions it dominates. Solutions whose domination count is reduced to zero are assigned to the next front.  \n",
        "5. **Repeat**: Continue this process until all solutions are assigned to fronts, and no more solutions remain to be sorted.  \n",
        "\n",
        "---"
      ],
      "metadata": {
        "id": "2MwaiGrctoZn"
      }
    },
    {
      "cell_type": "markdown",
      "source": [
        "**4. Step 4: Use Binary Tournament Selection for Parents in the Current Population**  \n",
        "\n",
        "To implement this step, the **`tournament_selection`** method was created. This algorithm randomly selects two individuals from the population and chooses one as a parent based on their rank. If the rank alone is not sufficient to determine the selection, the crowding distance is used as a secondary criterion.  \n",
        "\n",
        "---\n",
        "\n",
        "**Explanation of Crowding Distance**  \n",
        "\n",
        "The crowding distance measures the density of solutions surrounding a given individual within the same Pareto front. It helps determine which solution is better among individuals in the same front.  \n",
        "\n",
        "**Illustration**:  \n",
        "\n",
        "<img src='https://drive.google.com/uc?id=1A0zW4wf5J27CeQTaaqowwT-eqYZghRKD' width='500'>  \n",
        "\n",
        "In the illustration, both the blue and red solutions belong to the same Pareto front. To determine which solution is better, the crowding distance is employed. The blue solution is in a less crowded region, while the red solution is in a more crowded region. Therefore, the blue solution has a higher crowding distance and is more likely to be selected.  \n",
        "\n",
        "The following image, adapted from Seshadri (2006), explains how crowding distance is calculated:  \n",
        "\n",
        "<img src='https://drive.google.com/uc?id=16xg0TuNusL67FEiE8aA3eXIpdgnARdWa' width='700'>  \n",
        "\n",
        "---\n",
        "\n",
        "**Implementation of Crowding Distance Assignment**  \n",
        "\n",
        "To compute crowding distances, the **`crowding_distance_assignment`** method was implemented as part of the genetic algorithm class. Below are the steps:  \n",
        "\n",
        "1. **Input the Front**: The method takes a Pareto front obtained from the fast non-dominated sorting algorithm. If the front has one or fewer individuals, an infinite crowding distance is assigned to ensure selection.  \n",
        "2. **Initialize Crowding Distance**: Set the crowding distance to zero for each individual in the front.  \n",
        "3. **Sort by Objective Values**: For each objective (transmission rate and latency):  \n",
        "   - Sort the front based on the objective values.  \n",
        "   - For **transmission rate**, sort from lowest to highest value.  \n",
        "   - For **latency**, sort from highest to lowest value, as lower latency is more desirable.  \n",
        "4. **Assign Infinite Distance to Extremes**: Assign infinite crowding distances to the extreme individuals in the sorted list to preserve diversity.  \n",
        "5. **Update Crowding Distance**: For all other individuals, calculate the crowding distance based on the normalized difference in objective values with their neighbors.  \n",
        "6. **Return Updated Front**: The method returns the front with updated crowding distances, indicating the density of neighboring solutions for each individual.\n",
        "\n",
        "---\n"
      ],
      "metadata": {
        "id": "fd1QgzOSp1JP"
      }
    },
    {
      "cell_type": "markdown",
      "source": [
        "**5. Step 5: Perform Crossover and Mutation to Generate the Offspring Population of Size \\( N \\)**  \n",
        "\n",
        "---\n",
        "\n",
        "**Crossover Method Used**  \n",
        "\n",
        "According to Puljić and Manger (2013), eight crossover methods are suitable for vehicle routing problems: order crossover, partially mapped crossover, edge recombination crossover, cycle crossover, alternating edges crossover, heuristic greedy crossover, random crossover, and probabilistic crossover.  \n",
        "\n",
        "The **Edge Recombination Crossover (ERC)** was selected for this problem because it preserves edges and utilizes as many parent edges as possible. This preservation is essential to avoid generating infeasible solutions after crossover.  \n",
        "\n",
        "**Example of ERC Process**  \n",
        "\n",
        "Given two parent routes:  \n",
        "- **Parent 1 (x1):** ( Car-9, Car-5, Car-4, Car-2, BS-1 )  \n",
        "- **Parent 2 (x2):** ( Car-9, Car-8, Car-5, Car-1, Car-2, BS-1)  \n",
        "\n",
        "Steps:  \n",
        "1. **Generate Neighbor Lists**: For each node, combine neighbors from both parents.  \n",
        "   - For example, Car-9's neighbors are Car-5 and Car-8.  \n",
        "\n",
        "2. **Select the First Node**: Choose the starting node from a random parent (e.g., Car-9 from Parent 1).  \n",
        "\n",
        "3. **Choose the Next Node**: From Car-9's neighbors (Car-5 and Car-8), select the one with the fewest unvisited neighbors. If both have equal neighbors, choose randomly (e.g., Car-5).  \n",
        "\n",
        "4. **Update Neighbor Lists**: Remove Car-9 from all neighbor lists and proceed with Car-5.  \n",
        "\n",
        "5. **Continue the Process**:  \n",
        "   - Select the next node (e.g., Car-8) with the fewest unvisited neighbors.  \n",
        "   - If no valid neighbors exist, backtrack, remove invalid nodes, and continue.  \n",
        "\n",
        "6. **Complete the Path**:  \n",
        "   - Continue selecting nodes and removing visited ones until a complete path is formed.  \n",
        "   - Example resulting path: ( Car-9, Car-5, Car-4, Car-1, Car-2, BS-1 ).  \n",
        "\n",
        "This method was implemented as the **`crossover`** function of the individual class. The tutorial on [Rubicite](https://www.rubicite.com/Tutorials/GeneticAlgorithms/CrossoverOperators/EdgeRecombinationCrossoverOperator.aspx) was instrumental in understanding and implementing the ERC algorithm.  \n",
        "\n",
        "---\n",
        "\n",
        "**Mutation Method Used**  \n",
        "\n",
        "Puljić and Manger (2013) identify three types of mutations suitable for vehicle routing problems: inversion mutation, scramble mutation, and swap mutation.  \n",
        "\n",
        "**Inversion Mutation** was selected due to its simplicity and edge-preserving nature, ensuring the resulting offspring remains feasible.  \n",
        "\n",
        "**Example of Inversion Mutation**  \n",
        "\n",
        "Given the child route:  \n",
        "( Car-9, Car-5, Car-4, Car-1, Car-2, BS-1 )  \n",
        "\n",
        "1. Select a segment (e.g., Car-4 to Car-2).  \n",
        "2. Invert the segment:  \n",
        "   ( Car-9, Car-5, Car-2, Car-1, Car-4, BS-1 ).  \n",
        "\n",
        "To preserve feasibility, ensure edges (e.g., Car-5 to Car-2 and Car-4 to BS-1) exist before performing inversion.  \n",
        "\n",
        "---\n",
        "\n",
        " **Implementation of the Mutation Method**  \n",
        "\n",
        "The **`mutate`** function operates as follows:  \n",
        "1. Determine if mutation occurs, based on a randomly generated number and the mutation rate.  \n",
        "2. Identify valid segments within the route that can be inverted. Segments are valid if their endpoints can reconnect after inversion.  \n",
        "3. Randomize the list of valid segments to avoid deterministic behavior.  \n",
        "4. Select the first valid segment and invert its nodes.  \n",
        "5. Update the chromosome to reflect the new route after inversion.  \n",
        "\n",
        "---\n"
      ],
      "metadata": {
        "id": "cNYWU8NubZSW"
      }
    },
    {
      "cell_type": "markdown",
      "source": [
        "**6. Step 6:** Calculate the objective functions for the offspring population.  \n",
        "\n",
        "**7. Step 7:** Combine the offspring and parent populations to form a population of size \\( 2N \\).  \n",
        "\n",
        "**8. Step 8:** Perform non-dominated sorting on the combined population.  \n",
        "\n",
        "**9. Step 9:** Create the next generation by selecting the \\( N \\) best individuals from the sorted population (Elitism).  \n",
        "- Selection criteria:  \n",
        "  - Select individuals from the best fronts sequentially.  \n",
        "  - If adding the next front exceeds the population size \\( N \\), use the crowding distance to decide which individuals from that front are included.  \n",
        "  - This process is illustrated in the image below from Deb et al. (2002):  \n",
        "\n",
        "  <img src='https://drive.google.com/uc?id=1TUbh7E2AX9f06qR-_NIfcUI9K_dKrNtj' width='500'>  \n",
        "\n",
        "**10. Step 10:** Terminate the algorithm upon reaching the specified number of generations.  \n",
        "\n",
        "---\n"
      ],
      "metadata": {
        "id": "2TqwzfxB0nSW"
      }
    },
    {
      "cell_type": "markdown",
      "source": [
        "**Other Methods Used in the Genetic Algorithm**  \n",
        "\n",
        "The additional methods implemented in this algorithm are straightforward and can be understood through the code comments. Below is a summary of these methods:  \n",
        "\n",
        "---\n",
        "\n",
        "**1. `dominates` Method**  \n",
        "- Compares two solutions to determine which one dominates the other.  \n",
        "- This method is utilized in the **`fast_non_dominated_sort`** function.  \n",
        "\n",
        "---\n",
        "\n",
        "**2. `is_link_present` Method**  \n",
        "- Determines whether a link exists between two selected nodes.  \n",
        "\n",
        "---\n",
        "\n",
        "**3. `collect_all_routes` Method**  \n",
        "- Collects all routes for all nodes (e.g., Car-1 to Car-100) and outputs the data in JSON format.  \n",
        "\n",
        "---\n",
        "\n",
        "**Attributes of the `Individual` Class**  \n",
        "\n",
        "1. **`self.algorithm`**:  \n",
        "   - Indicates the optimization algorithm associated with the individual.  \n",
        "   - \"GA\" refers to Genetic Algorithm, while \"PA\" refers to PAES.  \n",
        "\n",
        "2. **`self.network_links`**:  \n",
        "   - A list of potential network links available for inclusion in the individual's routing path.  \n",
        "\n",
        "3. **`self.start_node`**:  \n",
        "   - Represents the starting node for the individual's routing path.  \n",
        "\n",
        "4. **`self.end_nodes`**:  \n",
        "   - A tuple containing possible end nodes for the routing path, typically base stations.  \n",
        "   - Although this attribute was not utilized as originally intended.  \n",
        "\n",
        "5. **`self.generation`**:  \n",
        "   - Tracks the generation number to which the individual belongs.  \n",
        "\n",
        "6. **`self.chromosome`**:  \n",
        "   - A binary list of 0's and 1's representing the presence or absence of links in the individual's routing path.  \n",
        "\n",
        "7. **`self.used_nodes`**:  \n",
        "   - A list of nodes actively used in the individual's routing path.  \n",
        "\n",
        "8. **`self.fitness_scores`**:  \n",
        "   - A dictionary storing the individual's fitness scores for different objectives, such as transmission rate and latency.  \n",
        "\n",
        "9. **`self.rank`**:  \n",
        "   - Indicates the individual's rank as determined by the **`fast_non_dominated_sort`** algorithm.  \n",
        "\n",
        "10. **`self.domination_count`**:  \n",
        "    - Tracks the number of individuals by which this individual is dominated.  \n",
        "\n",
        "11. **`self.dominated_solutions`**:  \n",
        "    - A set of individuals that this individual dominates.  \n",
        "\n",
        "12. **`self.crowding_distance`**:  \n",
        "    - Holds the crowding distance value of the individual, reflecting the density of neighboring solutions.  \n",
        "\n",
        "---\n"
      ],
      "metadata": {
        "id": "be95xzuoPVuo"
      }
    },
    {
      "cell_type": "markdown",
      "metadata": {
        "id": "8unRVbHMdP17"
      },
      "source": [
        "### Individual class"
      ]
    },
    {
      "cell_type": "code",
      "execution_count": null,
      "metadata": {
        "id": "y5HzJjcDdP17"
      },
      "outputs": [],
      "source": [
        "class Individual():\n",
        "    def __init__(self, network_links, start_node, end_nodes=('BS-1', 'BS-2'), generation=0, create_new=True):\n",
        "        self.algorithm = 'GA'\n",
        "        self.network_links = network_links\n",
        "        self.start_node = start_node\n",
        "        self.end_nodes = end_nodes\n",
        "        self.generation = generation\n",
        "\n",
        "        # This  if else line was added to ensure we don't just call the create_feasible_solution\n",
        "        # anytime we want to do crossover, we only want to call create_feasible_solution\n",
        "        # only when we initialize a population. This would help in reducing the computational time\n",
        "        if create_new:\n",
        "            self.chromosome, self.used_nodes = self.create_feasible_solution()\n",
        "            if self.chromosome is None:  # Meaning it Failed to create a feasible solution\n",
        "                raise ValueError(\"Failed to create a feasible initial solution.\")\n",
        "        else:\n",
        "            self.chromosome = [0] * len(self.network_links)\n",
        "            self.used_nodes = [start_node]\n",
        "\n",
        "        self.fitness_scores = {\n",
        "            'transmission_rate': 0,\n",
        "            'latency': 0\n",
        "        }\n",
        "        self.calculate_fitness()\n",
        "        self.rank = None\n",
        "        self.domination_count = None\n",
        "        self.dominated_solutions = None\n",
        "        self.crowding_distance = 0\n",
        "\n",
        "    def create_feasible_solution(self, max_attempts=100):\n",
        "        path = []  # Holds NetworkLink objects representing the path\n",
        "        chromosome = [0] * len(self.network_links)\n",
        "        used_nodes = [self.start_node]\n",
        "\n",
        "        attempts = 0\n",
        "        while not used_nodes[-1].startswith('BS'):  # Use the last node in used_nodes as the current node. Stop the while loop when we get to a base station\n",
        "            if attempts > max_attempts:\n",
        "                return None, None  # Return None if too many attempts without success, and it ensures we don't get stuck in the while loop\n",
        "\n",
        "            # Here we are trying to get as many links that are directly connected to the current last node in used_path\n",
        "            possible_links = [link for link in self.network_links if\n",
        "                              (link.start_node == used_nodes[-1] and link.end_node not in used_nodes) or\n",
        "                              (link.end_node == used_nodes[-1] and link.start_node not in used_nodes)]\n",
        "            shuffle(possible_links)  # Shuffle to add randomness\n",
        "\n",
        "            # Backtrack if there are no possible links to move to\n",
        "            if not possible_links:\n",
        "                if path:  # Check if there is a link to backtrack\n",
        "                    last_link = path.pop()\n",
        "                    link_index = self.network_links.index(last_link)\n",
        "                    chromosome[link_index] = 0\n",
        "                    used_nodes.pop()  # Remove the last node from used_nodes\n",
        "                else:\n",
        "                    return None, None  # No path found\n",
        "\n",
        "            # If there are possible links, then pick the first as the next link\n",
        "            else:\n",
        "                next_link = possible_links[0]\n",
        "                path.append(next_link)\n",
        "                link_index = self.network_links.index(next_link)\n",
        "                chromosome[link_index] = 1\n",
        "                # Append either the start_node or end_node of next_link depedning on the one that isn't in used_nodes\n",
        "                next_node = next_link.end_node if next_link.start_node == used_nodes[-1] else next_link.start_node\n",
        "                used_nodes.append(next_node)\n",
        "\n",
        "            attempts += 1\n",
        "\n",
        "        return chromosome, used_nodes\n",
        "\n",
        "    def calculate_fitness(self):\n",
        "        # Initialize the fitness scores\n",
        "        self.fitness_scores['transmission_rate'] = float('inf')\n",
        "        self.fitness_scores['latency'] = 0\n",
        "\n",
        "        # Calculate the transmission rate and latency\n",
        "        link_count = 0\n",
        "        for i, gene in enumerate(self.chromosome):\n",
        "            if gene == 1:\n",
        "                link = self.network_links[i]\n",
        "                # Fitness is the minimum transmission rate in the path\n",
        "                self.fitness_scores['transmission_rate'] = min(self.fitness_scores['transmission_rate'], link.transmission_rate)\n",
        "                # Increase the link count\n",
        "                link_count += 1\n",
        "\n",
        "        # Calculate the total latency\n",
        "        self.fitness_scores['latency'] = link_count * 50\n",
        "\n",
        "        # If no links are used, set the transmission rate to 0 and latency to a high value\n",
        "        if self.fitness_scores['transmission_rate'] == float('inf'):\n",
        "            self.fitness_scores['transmission_rate'] = 0\n",
        "            self.fitness_scores['latency'] = float('inf')\n",
        "\n",
        "    def crossover(self, other_individual):\n",
        "        # Create the adjacency list (neighbour list) for all nodes from both parents\n",
        "        adjacency_list = {}\n",
        "        for individual in [self, other_individual]:\n",
        "            for i in range(len(individual.used_nodes) - 1): # stop b4 node BS, bcos no need to get its neighbour\n",
        "                node1 = individual.used_nodes[i]\n",
        "                node2 = individual.used_nodes[i + 1]\n",
        "                if node1 not in adjacency_list:\n",
        "                    adjacency_list[node1] = set()\n",
        "                if node2 not in adjacency_list:\n",
        "                    adjacency_list[node2] = set()\n",
        "\n",
        "                # Add elements that appear before and after node i\n",
        "                adjacency_list[node1].add(node2)\n",
        "                adjacency_list[node2].add(node1)\n",
        "\n",
        "        # Initialize the offspring with the start node\n",
        "        current_node = self.start_node\n",
        "        offspring_path = [current_node]\n",
        "        visited_nodes = {current_node}  # Set to keep track of visited nodes\n",
        "\n",
        "        # Ensuring the start node is in the adjacency list before proceeding\n",
        "        if current_node not in adjacency_list:\n",
        "            return None\n",
        "\n",
        "        # Build the offspring path\n",
        "        while not current_node.startswith('BS'):\n",
        "\n",
        "            neighbors = list(adjacency_list[current_node] - visited_nodes)  # Subtract visited nodes from neighbors\n",
        "            if not neighbors:\n",
        "                # If no neighbors are available for the next move, return None\n",
        "                return None\n",
        "\n",
        "            neighbors.sort(key=lambda x: len(adjacency_list[x] - visited_nodes))  # Sort in increasing neighbourlist based on remaining neighbors\n",
        "            next_node = neighbors[0] # the one with the least neighbour becomes the next node\n",
        "\n",
        "            # Add the chosen node to the offspring path\n",
        "            offspring_path.append(next_node)\n",
        "            visited_nodes.add(next_node)  # Add to visited nodes\n",
        "\n",
        "            # Update the current node to continue building the path\n",
        "            current_node = next_node\n",
        "\n",
        "        # Translate the path into a chromosome\n",
        "        offspring_chromosome = [0] * len(self.network_links)\n",
        "        for i in range(1, len(offspring_path)): # start from the second element in offspring_path\n",
        "            for link in self.network_links:\n",
        "                if (link.start_node == offspring_path[i - 1] and link.end_node == offspring_path[i]) or \\\n",
        "                   (link.end_node == offspring_path[i - 1] and link.start_node == offspring_path[i]) :\n",
        "                    offspring_chromosome[self.network_links.index(link)] = 1\n",
        "                    break # Break the search in 2nd for loop, cos we have found the link, then go to next iteration of the 1st loop\n",
        "\n",
        "        # Create the offspring individual with incremented generation\n",
        "        offspring = Individual(self.network_links, self.start_node, self.end_nodes, self.generation + 1, create_new=False)\n",
        "        offspring.chromosome = offspring_chromosome\n",
        "        offspring.used_nodes = offspring_path\n",
        "        offspring.calculate_fitness()  # Calculate the fitness of the offspring\n",
        "        return offspring\n",
        "\n",
        "    # This method is employed in the mutate method\n",
        "    # It checks if there is a link between two nodes based on links in self.network_links\n",
        "    def is_link_present(self, node_a, node_b):\n",
        "        return any(link.start_node == node_a and link.end_node == node_b or\n",
        "                   link.start_node == node_b and link.end_node == node_a for link in self.network_links)\n",
        "\n",
        "\n",
        "    def mutate(self, mutation_rate):\n",
        "        if random.random() < mutation_rate:\n",
        "            # Generate a list of valid segments for inversion in used_nodes\n",
        "            valid_segments = []\n",
        "            for i in range(1, len(self.used_nodes) - 3):  # Skip the starting node and end 3 nodes b4 the last node(BS)\n",
        "                for j in range(i + 2, len(self.used_nodes) - 1):  #start from 2 nodes after i and end ensure at least a segment of size 2\n",
        "                    # Check if (nodes i-1 and j), and (nodes i and j+1) are connected\n",
        "                    if self.is_link_present(self.used_nodes[i-1], self.used_nodes[j]) and \\\n",
        "                       self.is_link_present(self.used_nodes[i], self.used_nodes[j+1]):\n",
        "                        valid_segments.append((i, j))\n",
        "\n",
        "            # Shuffle the list of valid segments To add randomness\n",
        "            random.shuffle(valid_segments)\n",
        "\n",
        "            # Perform mutation inversion on the first valid segment found\n",
        "            if valid_segments:\n",
        "                start, end = valid_segments[0]\n",
        "                # Invert the segment in used_nodes\n",
        "                self.used_nodes[start:end+1] = self.used_nodes[start:end+1][::-1]\n",
        "\n",
        "                # Reflect this inversion in the chromosome\n",
        "                # Reset the chromosome\n",
        "                self.chromosome = [0] * len(self.network_links)\n",
        "                # Rebuild the chromosome based on the modified used_nodes path\n",
        "                for i in range(1, len(self.used_nodes)): # start from the second element in used_nodes\n",
        "                    for link in self.network_links:\n",
        "                        if (link.start_node == self.used_nodes[i - 1] and link.end_node == self.used_nodes[i]) or \\\n",
        "                           (link.end_node == self.used_nodes[i - 1] and link.start_node == self.used_nodes[i]) :\n",
        "                            self.chromosome[self.network_links.index(link)] = 1\n",
        "                            break # Break the search in 2nd for loop, cos we have found the link, then go to next iteration of the 1st loop\n",
        "\n",
        "        return self  # This will always return the individual whether it's mutated or not\n",
        "\n",
        "\n",
        "    def dominates(self, other_individual):\n",
        "        # For transmission_rate, a higher value is better (maximize)\n",
        "        better_transmission_rate = self.fitness_scores['transmission_rate'] > other_individual.fitness_scores['transmission_rate']\n",
        "        # For latency, a lower value is better (minimize)\n",
        "        better_latency = self.fitness_scores['latency'] < other_individual.fitness_scores['latency']\n",
        "\n",
        "        # Individual1 dominates Individual2 if it is no worse in all objectives and better in at least one\n",
        "        no_worse_in_all = (self.fitness_scores['transmission_rate'] >= other_individual.fitness_scores['transmission_rate']) and \\\n",
        "                          (self.fitness_scores['latency'] <= other_individual.fitness_scores['latency'])\n",
        "\n",
        "        # Individual1 is better than Individual2 in at least one objective\n",
        "        better_in_at_least_one = better_transmission_rate or better_latency\n",
        "\n",
        "        return no_worse_in_all and better_in_at_least_one # returns a boolean\n",
        "\n"
      ]
    },
    {
      "cell_type": "markdown",
      "metadata": {
        "id": "vV-jPbOpdP17"
      },
      "source": [
        "### Genetic Algorithm class"
      ]
    },
    {
      "cell_type": "code",
      "execution_count": null,
      "metadata": {
        "id": "Clv0V5pLdP17"
      },
      "outputs": [],
      "source": [
        "class GeneticAlgorithm():\n",
        "    def __init__(self, population_size, network_links, start_node, end_nodes=('BS-1', 'BS-2')):\n",
        "        self.population_size = population_size\n",
        "        self.population = []\n",
        "        self.generation = 0\n",
        "        self.best_solution = None # not needed\n",
        "        self.list_of_solutions = [] # not needed\n",
        "        self.network_links = network_links\n",
        "        self.start_node = start_node\n",
        "        self.end_nodes = end_nodes # not needed\n",
        "        self.generational_pareto_fronts = [] # holds the first pareto front of each generation\n",
        "\n",
        "    def initialize_population(self):\n",
        "        while len(self.population) < self.population_size: # continue to call create_feasible_solution until we have the number of population needed\n",
        "            try:\n",
        "                individual = Individual(self.network_links, self.start_node, self.end_nodes, generation=0, create_new=True)\n",
        "                self.population.append(individual)\n",
        "            except ValueError:\n",
        "                # If an individual with a feasible solution cannot be created, try again\n",
        "                continue\n",
        "        self.best_solution = self.population[0]\n",
        "\n",
        "    def fast_non_dominated_sort(self, population):\n",
        "        fronts = [[]]\n",
        "        for p in population:\n",
        "            p.domination_count = 0\n",
        "            p.dominated_solutions = set()\n",
        "            for q in population:\n",
        "                if p.dominates(q):\n",
        "                    p.dominated_solutions.add(q)\n",
        "                elif q.dominates(p):\n",
        "                    p.domination_count += 1\n",
        "            if p.domination_count == 0:\n",
        "                p.rank = 1\n",
        "                fronts[0].append(p)\n",
        "\n",
        "        i = 0\n",
        "        while fronts[i]:\n",
        "            Q = []\n",
        "            for p in fronts[i]:\n",
        "                for q in p.dominated_solutions:\n",
        "                    q.domination_count -= 1\n",
        "                    if q.domination_count == 0:\n",
        "                        q.rank = i + 2\n",
        "                        Q.append(q)\n",
        "            i += 1\n",
        "            fronts.append(Q)\n",
        "\n",
        "        return fronts[:-1]  # The last front will be empty\n",
        "\n",
        "    def crowding_distance_assignment(self, front):\n",
        "        # No need to calculate crowding distance if front is empty or has only one individual\n",
        "        if len(front) <= 1:\n",
        "            for individual in front:\n",
        "                individual.crowding_distance = float('inf')  # Assign infinity to make sure it gets selected\n",
        "            return front\n",
        "\n",
        "        # Initialize crowding distance for each individual\n",
        "        for individual in front:\n",
        "            individual.crowding_distance = 0\n",
        "\n",
        "        # We have two objectives: transmission_rate (maximize), latency (minimize)\n",
        "        objectives = ['transmission_rate', 'latency']\n",
        "        for obj in objectives:\n",
        "            # Sort individuals based on the objective\n",
        "            # For transmission_rate we do not reverse the sort order (higher is better)\n",
        "            # For latency we reverse the sort order (lower is better)\n",
        "            front.sort(key=lambda x: x.fitness_scores[obj], reverse=(obj == 'latency'))\n",
        "\n",
        "            # Assign infinity distance to boundary values\n",
        "            front[0].crowding_distance = float('inf')\n",
        "            front[-1].crowding_distance = float('inf')\n",
        "\n",
        "            # Find the range of the objective\n",
        "            min_value = front[0].fitness_scores[obj]\n",
        "            max_value = front[-1].fitness_scores[obj]\n",
        "            range_of_objective = max_value - min_value\n",
        "\n",
        "            # Calculate crowding distance only if there is a range (i.e., not all values are equal)\n",
        "            if range_of_objective != 0:\n",
        "                for k in range(1, len(front) - 1):\n",
        "                    front[k].crowding_distance += (front[k + 1].fitness_scores[obj] - front[k - 1].fitness_scores[obj]) / range_of_objective\n",
        "\n",
        "        return front\n",
        "\n",
        "    def tournament_selection(self, k=2):\n",
        "        selected_parents = []\n",
        "        while len(selected_parents) < self.population_size:\n",
        "            participants = random.sample(self.population, k)\n",
        "            participants.sort(key=lambda ind: (ind.rank, -ind.crowding_distance))\n",
        "            selected_parents.append(participants[0])\n",
        "        return selected_parents\n",
        "\n",
        "    def select_next_generation(self, children):\n",
        "        # Combine the existing population with the children\n",
        "        combined_population = self.population + children\n",
        "\n",
        "        # Perform fast non-dominated sorting on the combined population\n",
        "        fronts = self.fast_non_dominated_sort(combined_population)\n",
        "\n",
        "        # Calculate crowding distance for each front\n",
        "        for front in fronts:\n",
        "            self.crowding_distance_assignment(front)\n",
        "\n",
        "        # Select the next generation from the sorted fronts\n",
        "        new_population = []\n",
        "        front_index = 0\n",
        "        while len(new_population) + len(fronts[front_index]) <= self.population_size:\n",
        "            # Add the entire front to the new population if it fits\n",
        "            new_population.extend(fronts[front_index])\n",
        "            front_index += 1\n",
        "\n",
        "        # If the last front to consider is too large to fit in the remaining slots,\n",
        "        # sort the front by crowding distance and take as many individuals as needed\n",
        "        if len(new_population) < self.population_size:\n",
        "            sorted_front = sorted(fronts[front_index], key=lambda ind: ind.crowding_distance, reverse=True) # sorted in decreasing order\n",
        "            new_population.extend(sorted_front[:self.population_size - len(new_population)]) # extend population to the required size\n",
        "\n",
        "        return new_population\n",
        "\n",
        "\n",
        "    def solve(self, mutation_probability, number_of_generations):\n",
        "        self.initialize_population()\n",
        "\n",
        "        for generation in range(number_of_generations):\n",
        "\n",
        "            # Rank the population using fast non-dominated sort\n",
        "            fronts = self.fast_non_dominated_sort(self.population)\n",
        "\n",
        "            # Calculate crowding distance for each individual in each front\n",
        "            for front in fronts:\n",
        "                self.crowding_distance_assignment(front)\n",
        "\n",
        "            # Selection process based on rank and crowding distance\n",
        "            parents = self.tournament_selection()\n",
        "\n",
        "            # Create the offspring population through crossover and mutation\n",
        "            children = []\n",
        "            while len(children) < self.population_size:\n",
        "                parent1, parent2 = random.sample(parents, 2)\n",
        "                child = parent1.crossover(parent2)\n",
        "                if child is not None:  # Ensuring the child is valid\n",
        "                    child.mutate(mutation_probability)\n",
        "                    children.append(child)\n",
        "\n",
        "            # Combine parent and child populations and select the best to form new population\n",
        "            self.population = self.select_next_generation(children)\n",
        "\n",
        "            # Evaluate the objective functions for each individual in the new population\n",
        "            # This step is necessary to have fitness values for the next iteration\n",
        "            for individual in self.population:\n",
        "                individual.calculate_fitness()\n",
        "\n",
        "            # Collect individuals in the first Pareto front for this generation\n",
        "            current_pareto_front = [ind for ind in self.population if ind.rank == 1]\n",
        "            self.generational_pareto_fronts.append(current_pareto_front)\n",
        "\n",
        "\n",
        "        # After all generations, sort the final population and report the first Pareto front\n",
        "        final_fronts = self.fast_non_dominated_sort(self.population)\n",
        "\n",
        "        # Create a set to store unique chromosomes (we are trying to ensure the solutions we collect are not repetitive, we want unique solutions)\n",
        "        unique_chromosomes = set()\n",
        "        unique_first_pareto_front = []\n",
        "\n",
        "        if final_fronts:\n",
        "            for individual in final_fronts[0]:\n",
        "                # Convert the chromosome to a string to store in a set for uniqueness check\n",
        "                chromosome_str = str(individual.chromosome)\n",
        "                if chromosome_str not in unique_chromosomes:\n",
        "                    unique_first_pareto_front.append(individual)\n",
        "                    unique_chromosomes.add(chromosome_str)\n",
        "\n",
        "        # Return the unique first Pareto front, their fitness scores, and the first pareto fronts for the generations\n",
        "        return unique_first_pareto_front, [individual.fitness_scores for individual in unique_first_pareto_front], self.generational_pareto_fronts\n",
        "\n",
        "    def collect_all_routes(self):\n",
        "        all_routes = {}\n",
        "\n",
        "        for car_index in tqdm(range(1, 101), desc='Collecting routes'):\n",
        "            start_node = f\"Car-{car_index}\"\n",
        "            self.start_node = start_node  # Update start node for each run\n",
        "            self.population = []  # Reset population for each run\n",
        "            pareto_front, x, y = self.solve(mutation_probability, number_of_generations)\n",
        "\n",
        "            # Initialize the dictionary for the current start node only once\n",
        "            all_routes[start_node] = {}\n",
        "\n",
        "            # Collect detailed routing paths for each solution\n",
        "            for ind_index, individual in enumerate(pareto_front):\n",
        "                route_details = {\n",
        "                    \"Routing Path\": '',\n",
        "                    \"End-to-end data rate\": individual.fitness_scores['transmission_rate'],\n",
        "                    \"Latency\": individual.fitness_scores['latency']\n",
        "                }\n",
        "\n",
        "                # Manually construct the routing path string\n",
        "                routing_path_list = []\n",
        "                for i in range(len(individual.used_nodes) - 1):\n",
        "                    node = individual.used_nodes[i]\n",
        "                    next_node = individual.used_nodes[i+1]\n",
        "                    for link in self.network_links:\n",
        "                        if (link.start_node == node and link.end_node == next_node) or \\\n",
        "                          (link.start_node == next_node and link.end_node == node):\n",
        "                            routing_path_list.append(f\"({node})\")\n",
        "                            routing_path_list.append(f\"{link.transmission_rate}\")\n",
        "                            break\n",
        "                # Add the last node which is the base station\n",
        "                routing_path_list.append(f\"({individual.used_nodes[-1]})\")\n",
        "                route_details[\"Routing Path\"] = \", \".join(routing_path_list)\n",
        "\n",
        "                # Add this route to the all_routes dictionary under the appropriate solution key\n",
        "                node_solution_key = f\"Solution {ind_index + 1}\"\n",
        "                all_routes[start_node][node_solution_key] = route_details\n",
        "\n",
        "        # Return all routes\n",
        "        return all_routes"
      ]
    },
    {
      "cell_type": "markdown",
      "metadata": {
        "id": "mGcFgQ-mdP18"
      },
      "source": [
        "### Testing the NSGA-II algorithm"
      ]
    },
    {
      "cell_type": "code",
      "source": [
        "# Parameters for the NSGA-II algorithm\n",
        "population_size = 20\n",
        "mutation_probability = 0.1\n",
        "number_of_generations = 100\n",
        "start_node = 'Car-50'\n",
        "\n",
        "# Initialize and run the NSGA-II algorithm\n",
        "ga = GeneticAlgorithm(population_size, network_links_list, start_node)\n",
        "first_pareto_front, x, y = ga.solve(mutation_probability, number_of_generations)\n",
        "for individual in first_pareto_front:\n",
        "    print(f\"Fitness Scores: {individual.fitness_scores}, Used Nodes: {individual.used_nodes}\")"
      ],
      "metadata": {
        "colab": {
          "base_uri": "https://localhost:8080/"
        },
        "id": "CyGhuJxIAoAJ",
        "outputId": "858d89d3-09be-40fc-d406-0058382b7e64"
      },
      "execution_count": null,
      "outputs": [
        {
          "output_type": "stream",
          "name": "stdout",
          "text": [
            "Fitness Scores: {'transmission_rate': 1, 'latency': 50}, Used Nodes: ['Car-50', 'BS-2']\n"
          ]
        }
      ]
    },
    {
      "cell_type": "markdown",
      "source": [
        "### Collect Routes into JSON file"
      ],
      "metadata": {
        "id": "cWl8Q5pJzMcE"
      }
    },
    {
      "cell_type": "markdown",
      "source": [
        "The parameters set here is what was used for getting the routes in the JSON file for NSGA"
      ],
      "metadata": {
        "id": "4IVUDpvwc-Gk"
      }
    },
    {
      "cell_type": "code",
      "source": [
        "# Parameters for the NSGA-II algorithm\n",
        "population_size = 100\n",
        "mutation_probability = 0.1\n",
        "number_of_generations = 100\n",
        "\n",
        "# Initialize the NSGA-II algorithm\n",
        "ga = GeneticAlgorithm(population_size, network_links_list, mutation_probability, number_of_generations)\n",
        "\n",
        "# Collect all routes\n",
        "all_routes = ga.collect_all_routes()\n",
        "\n",
        "# Output the collected information to a JSON file\n",
        "with open('optimized_routes_NSGA.json', 'w') as json_file:\n",
        "    json.dump(all_routes, json_file, indent=4)\n"
      ],
      "metadata": {
        "id": "JLfh0D6buqTH",
        "colab": {
          "base_uri": "https://localhost:8080/"
        },
        "outputId": "1960bf79-92ea-4d7d-9a3b-36a9fe5f0025"
      },
      "execution_count": null,
      "outputs": [
        {
          "output_type": "stream",
          "name": "stderr",
          "text": [
            "Collecting routes: 100%|██████████| 100/100 [00:07<00:00, 13.86it/s]\n"
          ]
        }
      ]
    },
    {
      "cell_type": "markdown",
      "source": [
        "## PAES"
      ],
      "metadata": {
        "id": "GW08HIdmcZy-"
      }
    },
    {
      "cell_type": "markdown",
      "source": [
        "### Explanation"
      ],
      "metadata": {
        "id": "YF7OoFSD-j0A"
      }
    },
    {
      "cell_type": "markdown",
      "source": [
        "**Pareto Archived Evolution Strategy (PAES) Algorithm**  \n",
        "\n",
        "The PAES algorithm operates with a single parent generating offspring through mutation. The newly created offspring is compared to its parent:  \n",
        "- If the offspring dominates the parent, it replaces the parent, and the process repeats.  \n",
        "- If the parent dominates the offspring, the offspring is discarded, and a new mutation is attempted.  \n",
        "- If neither dominates the other, the decision is made using a reference set of previously identified non-dominated individuals (Oltean et al., 2005).  \n",
        "\n",
        "One of PAES's primary objectives is to explore local search, in contrast to methods like NSGA-II, which maintain a population of solutions and perform selection and breeding.  \n",
        "\n",
        "The image below, adapted from Knowles and Corne (2003b), illustrates the PAES algorithm strategy:  \n",
        "\n",
        "<img src='https://drive.google.com/uc?id=1PK82QCfqK56boAbyWQyBKWIZsf7OWfWP' width='400'>  \n",
        "\n",
        "---\n",
        "\n",
        "### **Versions of PAES**  \n",
        "\n",
        "PAES has three main variants:  \n",
        "\n",
        "1. **(1+1) PAES**  \n",
        "   - A foundational approach where a single offspring is mutated from one parent during each cycle.  \n",
        "\n",
        "2. **(1+λ) PAES**  \n",
        "   - Builds on (1+1) by creating \\( \\lambda \\) offspring from the original parent solution.  \n",
        "\n",
        "3. **(μ+λ) PAES**  \n",
        "   - Maintains a population of size \\( \\mu \\) and generates \\( \\lambda \\) offspring from this group.  \n",
        "   - Tournament selection is used to choose the fittest individuals concerning the archive.  \n",
        "   - The selected individuals are mutated, and fitness is re-assigned based on the archive.  \n",
        "   - The fittest \\( \\mu \\) individuals from the \\( μ+λ \\) solutions replace the current population (Knowles and Corne, 2003b).  \n",
        "\n",
        "   ---\n",
        "   "
      ],
      "metadata": {
        "id": "I2nJV2Aa-mZh"
      }
    },
    {
      "cell_type": "markdown",
      "source": [
        "**Novelty: Modifications to the (μ+λ) Variant of PAES**  \n",
        "\n",
        "Modifications were made to the (μ+λ) variant of the PAES algorithm to better suit the problem at hand:  \n",
        "\n",
        "1. **Adaptive Population Size**:  \n",
        "   - Instead of maintaining a fixed population size (μ), the population size was made adaptive, depending on the number of non-dominated solutions available at any given time.  \n",
        "   - This allows the algorithm to search and retain as many non-dominated solutions as possible.  \n",
        "\n",
        "2. **Mutation-Driven Exploration**:  \n",
        "   - After initialization, all solutions generated were mutated instead of using tournament selection to choose the fittest individuals.  \n",
        "   - This modification enhances the algorithm's ability to perform local searches more extensively.  \n",
        "\n",
        "Below is a flowchart of the modified (μ+λ) variant of the PAES algorithm developed:  \n",
        "\n",
        "<img src='https://drive.google.com/uc?id=174zKhlYuDGXcbc9CtGV8016av8jQ7jup' width='600'>  \n",
        "\n",
        "---\n",
        "\n",
        "**Mutation Methods Used**  \n",
        "\n",
        "Three mutation methods were employed, including one used in the Genetic Algorithm. Two new mutation methods, described below, represent the novelties introduced.  \n",
        "\n",
        "---\n",
        "\n",
        "**1. Modified Swap Mutation**  \n",
        "- **Original Swap Mutation**: Involves swapping one node in the current path with another node in the same path.  \n",
        "- **Novel Modification**:  \n",
        "  - A list of n random nodes is generated.  \n",
        "  - Each random node is evaluated to determine if it can replace any node in the current path, except for the first and last nodes (source node and base station).  \n",
        "  - This modification increases flexibility and reduces the likelihood of infeasible solutions while maintaining the overall structure of the routing path.  \n",
        "\n",
        "---\n",
        "\n",
        "**2. Reduce Latency Mutation**  \n",
        "- **Description**: Designed specifically to minimize latency, this method was developed from scratch and is tailored to this problem, though it could be applicable to similar problems.  \n",
        "\n",
        "**Example**: Given the used path (Car-9, Car-8, Car-5, Car-7, Car-5, Car-3, BS-1):  \n",
        "1. Start with the second node (Car-8) and check if it can be removed while maintaining feasibility:  \n",
        "   - Determine if Car-9 has a direct link to Car-5. If yes, remove Car-8 from the path; otherwise, retain it.  \n",
        "2. If Car-8 is removed, move to the next node (Car-5) and repeat the process:  \n",
        "   - Check if Car-9 has a direct link to Car-7. If yes, remove Car-5; otherwise, retain it.  \n",
        "3. Continue this process for all intermediate nodes until the second-to-last node.  \n",
        "\n",
        "**Result**: The path may reduce to (Car-9, Car-7, Car-3, BS-1), which has lower latency compared to its parent path.  \n",
        "\n",
        "This method systematically reduces latency by eliminating unnecessary intermediate nodes, ensuring the path remains feasible.  \n",
        "\n",
        "---\n"
      ],
      "metadata": {
        "id": "dBb7ibfi-mJC"
      }
    },
    {
      "cell_type": "markdown",
      "source": [
        "**Methods Used in the PAES Algorithm**  \n",
        "\n",
        "- Most methods used in the PAES algorithm were originally developed for the Genetic Algorithm and were reused here. For the **`Individual`** class, it was renamed **`Individual_pa`** to distinguish it within the PAES context. Similarly, for the PAES algorithm, **`self.algorithm = 'PA'`** was assigned to indicate its type.  \n",
        "\n",
        "- The **`inversion_mutation`** method in the PAES algorithm is identical to the **`mutate`** method in the Genetic Algorithm's **`Individual`** class.  \n",
        "\n",
        "- In the **`fast_non_dominated_sort`** method of the PAES algorithm:  \n",
        "  - The `for` loop focuses on identifying the first Pareto front.  \n",
        "  - The `while` loop processes additional Pareto fronts beyond the first.  \n",
        "  - Since only the first Pareto front is relevant in PAES, the `while` loop was discarded to improve algorithm efficiency.  "
      ],
      "metadata": {
        "id": "wadbNyV4HzQT"
      }
    },
    {
      "cell_type": "markdown",
      "metadata": {
        "id": "afSLtpRI52qt"
      },
      "source": [
        "### Individual class"
      ]
    },
    {
      "cell_type": "code",
      "execution_count": null,
      "metadata": {
        "id": "nzOrHUlCdpf8"
      },
      "outputs": [],
      "source": [
        "class Individual_pa():\n",
        "    def __init__(self, network_links, start_node, end_nodes=('BS-1', 'BS-2'), generation=0, create_new=True):\n",
        "        self.algorithm = 'PA'\n",
        "        self.network_links = network_links\n",
        "        self.start_node = start_node\n",
        "        self.end_nodes = end_nodes\n",
        "        self.generation = generation\n",
        "        self.all_nodes = ['Car-' + str(i) for i in range(1, 101)]  # a list conataing all car nodes\n",
        "        if create_new:\n",
        "            self.chromosome, self.used_nodes = self.create_feasible_solution()\n",
        "            if self.chromosome is None:  # Failed to create a feasible solution\n",
        "                raise ValueError(\"Failed to create a feasible initial solution.\")\n",
        "        else:\n",
        "            self.chromosome = [0] * len(self.network_links)\n",
        "            self.used_nodes = [start_node]\n",
        "\n",
        "        self.fitness_scores = {\n",
        "            'transmission_rate': 0,\n",
        "            'latency': 0\n",
        "        }\n",
        "        self.calculate_fitness()\n",
        "        self.rank = None\n",
        "        self.domination_count = None\n",
        "        self.dominated_solutions = None\n",
        "        self.crowding_distance = 0\n",
        "\n",
        "    def create_feasible_solution(self, max_attempts=100):\n",
        "        path = []  # Holds NetworkLink objects representing the path\n",
        "        chromosome = [0] * len(self.network_links)\n",
        "        used_nodes = [self.start_node]\n",
        "\n",
        "        attempts = 0\n",
        "        while not used_nodes[-1].startswith('BS'):  # Use the last node in used_nodes as the current node\n",
        "            if attempts > max_attempts:\n",
        "                return None, None  # Return None if too many attempts without success\n",
        "\n",
        "            possible_links = [link for link in self.network_links if\n",
        "                              (link.start_node == used_nodes[-1] and link.end_node not in used_nodes) or\n",
        "                              (link.end_node == used_nodes[-1] and link.start_node not in used_nodes)]\n",
        "            shuffle(possible_links)  # Shuffle to add randomness\n",
        "\n",
        "            # Backtrack if there are no possible links to move to\n",
        "            if not possible_links:\n",
        "                if path:  # Check if there is a link to backtrack\n",
        "                    last_link = path.pop()\n",
        "                    link_index = self.network_links.index(last_link)\n",
        "                    chromosome[link_index] = 0\n",
        "                    used_nodes.pop()  # Remove the last node from used_nodes\n",
        "                else:\n",
        "                    return None, None  # No path found\n",
        "\n",
        "            # If there are possible links, then pick the first as the next link\n",
        "            else:\n",
        "                next_link = possible_links[0]\n",
        "                path.append(next_link)\n",
        "                link_index = self.network_links.index(next_link)\n",
        "                chromosome[link_index] = 1\n",
        "                # Append either the start_node or end_node of next_link depedning on the one that isn't in used_nodes\n",
        "                next_node = next_link.end_node if next_link.start_node == used_nodes[-1] else next_link.start_node\n",
        "                used_nodes.append(next_node)\n",
        "\n",
        "            attempts += 1\n",
        "\n",
        "        return chromosome, used_nodes\n",
        "\n",
        "    def calculate_fitness(self):\n",
        "        # Initialize the fitness scores\n",
        "        self.fitness_scores['transmission_rate'] = float('inf')\n",
        "        self.fitness_scores['latency'] = 0\n",
        "\n",
        "        # Calculate the transmission rate and latency\n",
        "        link_count = 0\n",
        "        for i, gene in enumerate(self.chromosome):\n",
        "            if gene == 1:\n",
        "                link = self.network_links[i]\n",
        "                # Fitness is the minimum transmission rate in the path\n",
        "                self.fitness_scores['transmission_rate'] = min(self.fitness_scores['transmission_rate'], link.transmission_rate)\n",
        "                # Increase the link count\n",
        "                link_count += 1\n",
        "\n",
        "        # Calculate the total latency\n",
        "        self.fitness_scores['latency'] = link_count * 50\n",
        "\n",
        "        # If no links are used, set the transmission rate to 0 and latency to a high value\n",
        "        if self.fitness_scores['transmission_rate'] == float('inf'):\n",
        "            self.fitness_scores['transmission_rate'] = 0\n",
        "            self.fitness_scores['latency'] = float('inf')\n",
        "\n",
        "\n",
        "    # This method is employed in the mutates method below\n",
        "    # It checks if there is a link between two nodes based on links in self.network_links\n",
        "    def is_link_present(self, node_a, node_b):\n",
        "        return any(link.start_node == node_a and link.end_node == node_b or\n",
        "                   link.start_node == node_b and link.end_node == node_a for link in self.network_links)\n",
        "\n",
        "\n",
        "    def inversion_mutation(self, mutation_rate):\n",
        "        if random.random() < mutation_rate:\n",
        "            # Generate a list of valid segments for inversion in used_nodes\n",
        "            valid_segments = []\n",
        "            for i in range(1, len(self.used_nodes) - 3):  # Skip the starting node and end 3 nodes b4 the last node(BS)\n",
        "                for j in range(i + 2, len(self.used_nodes) - 1):  #start from 2 nodes after i and end ensure at least a segment of size 2\n",
        "                    # Check if (nodes i-1 and j), and (nodes i and j+1) are connected\n",
        "                    if self.is_link_present(self.used_nodes[i-1], self.used_nodes[j]) and \\\n",
        "                       self.is_link_present(self.used_nodes[i], self.used_nodes[j+1]):\n",
        "                        valid_segments.append((i, j))\n",
        "\n",
        "            # Shuffle the list of valid segments To add randomness\n",
        "            random.shuffle(valid_segments)\n",
        "\n",
        "            # Perform mutation inversion on the first valid segment found\n",
        "            if valid_segments:\n",
        "                start, end = valid_segments[0]\n",
        "                # Invert the segment in used_nodes\n",
        "                self.used_nodes[start:end+1] = self.used_nodes[start:end+1][::-1]\n",
        "\n",
        "                # Reflect this inversion in the chromosome\n",
        "                # Reset the chromosome\n",
        "                self.chromosome = [0] * len(self.network_links)\n",
        "                # Rebuild the chromosome based on the modified used_nodes path\n",
        "                for i in range(1, len(self.used_nodes)): # start from the second element in used_nodes\n",
        "                    for link in self.network_links:\n",
        "                        if (link.start_node == self.used_nodes[i - 1] and link.end_node == self.used_nodes[i]) or \\\n",
        "                           (link.end_node == self.used_nodes[i - 1] and link.start_node == self.used_nodes[i]) :\n",
        "                            self.chromosome[self.network_links.index(link)] = 1\n",
        "                            break # Break the search in 2nd for loop, cos we have found the link, then go to next iteration of the 1st loop\n",
        "\n",
        "        return self  # This will always return the individual whether it's mutated or not\n",
        "\n",
        "\n",
        "    def reduce_latency_mutation(self, mutation_rate):\n",
        "        if random.random() < mutation_rate:\n",
        "            # Attempt to remove each node (except the first and last)\n",
        "            i = 1\n",
        "            while i < len(self.used_nodes) - 1:\n",
        "                current_node = self.used_nodes[i]\n",
        "                prev_node = self.used_nodes[i - 1]\n",
        "                next_node = self.used_nodes[i + 1]\n",
        "\n",
        "                # If a direct link exists between the previous and next nodes, remove the current node\n",
        "                if self.is_link_present(prev_node, next_node):\n",
        "                    self.used_nodes.pop(i)\n",
        "                    # Do not increment i, as the next node has shifted into the current index\n",
        "                else:\n",
        "                    i += 1  # Move to the next node\n",
        "\n",
        "            # Reflect the changes in the used_nodes to the chromosome\n",
        "            self.chromosome = [0] * len(self.network_links)\n",
        "            # Rebuild the chromosome based on the modified used_nodes path\n",
        "            for i in range(1, len(self.used_nodes)):\n",
        "                for link in self.network_links:\n",
        "                    if (link.start_node == self.used_nodes[i - 1] and link.end_node == self.used_nodes[i]) or \\\n",
        "                      (link.end_node == self.used_nodes[i - 1] and link.start_node == self.used_nodes[i]):\n",
        "                        self.chromosome[self.network_links.index(link)] = 1\n",
        "                        break  # Found the link, move to the next link in the path\n",
        "\n",
        "        return self  # Return the individual, mutated or not\n",
        "\n",
        "\n",
        "    def modified_swap_mutation(self, mutation_rate, n=50):\n",
        "        if random.random() < mutation_rate:\n",
        "            # Generate a list of nodes not in the current used_nodes (excluding first and last)\n",
        "            available_nodes = [node for node in self.all_nodes if node not in self.used_nodes and not node.startswith('BS')]\n",
        "\n",
        "            # Randomly select n nodes from the available ones\n",
        "            nodes_to_test = random.sample(available_nodes, min(n, len(available_nodes)))\n",
        "\n",
        "            # Flag to indicate if a swap has occurred\n",
        "            swap_performed = False\n",
        "\n",
        "            # Attempt to replace any node in used_nodes\n",
        "            for i in range(1, len(self.used_nodes) - 1):\n",
        "                if swap_performed:\n",
        "                    break  # Break out of the outer loop if a swap has been performed\n",
        "                for new_node in nodes_to_test:\n",
        "                    # Check if new_node can replace the current node at position i\n",
        "                    if self.is_link_present(self.used_nodes[i-1], new_node) and \\\n",
        "                      self.is_link_present(new_node, self.used_nodes[i+1]):\n",
        "                        # Perform the swap\n",
        "                        self.used_nodes[i] = new_node\n",
        "                        swap_performed = True  # Set the flag\n",
        "                        break  # Exit the inner loop after one successful swap\n",
        "\n",
        "            # Reflect the changes in the used_nodes to the chromosome\n",
        "            self.chromosome = [0] * len(self.network_links)\n",
        "            # Rebuild the chromosome based on the modified used_nodes path\n",
        "            for i in range(1, len(self.used_nodes)):\n",
        "                for link in self.network_links:\n",
        "                    if (link.start_node == self.used_nodes[i - 1] and link.end_node == self.used_nodes[i]) or \\\n",
        "                      (link.end_node == self.used_nodes[i - 1] and link.start_node == self.used_nodes[i]):\n",
        "                        self.chromosome[self.network_links.index(link)] = 1\n",
        "                        break  # Found the link, move to the next link in the path\n",
        "\n",
        "        return self  # Return the individual, mutated or not\n",
        "\n",
        "\n",
        "    def dominates(self, other_individual):\n",
        "        # For transmission_rate, a higher value is better (maximize)\n",
        "        better_transmission_rate = self.fitness_scores['transmission_rate'] > other_individual.fitness_scores['transmission_rate']\n",
        "        # For latency, a lower value is better (minimize)\n",
        "        better_latency = self.fitness_scores['latency'] < other_individual.fitness_scores['latency']\n",
        "\n",
        "        # Individual1 dominates Individual2 if it is no worse in all objectives and better in at least one\n",
        "        no_worse_in_all = (self.fitness_scores['transmission_rate'] >= other_individual.fitness_scores['transmission_rate']) and \\\n",
        "                          (self.fitness_scores['latency'] <= other_individual.fitness_scores['latency'])\n",
        "\n",
        "        # Individual1 is better than Individual2 in at least one objective\n",
        "        better_in_at_least_one = better_transmission_rate or better_latency\n",
        "\n",
        "        return no_worse_in_all and better_in_at_least_one # This would return a bool\n",
        "\n"
      ]
    },
    {
      "cell_type": "markdown",
      "metadata": {
        "id": "dfO_dTfK5722"
      },
      "source": [
        "### PAES Algorithm class"
      ]
    },
    {
      "cell_type": "code",
      "execution_count": null,
      "metadata": {
        "id": "UTIG3uLb6Bi3"
      },
      "outputs": [],
      "source": [
        "class PaesAlgorithm():\n",
        "    def __init__(self, population_size, network_links, start_node, end_nodes=('BS-1', 'BS-2')):\n",
        "        self.population_size = population_size\n",
        "        self.population = []\n",
        "        self.generation = 0\n",
        "        self.best_solution = None\n",
        "        self.list_of_solutions = []\n",
        "        self.network_links = network_links\n",
        "        self.start_node = start_node\n",
        "        self.end_nodes = end_nodes\n",
        "        self.generational_pareto_fronts = []\n",
        "\n",
        "    def initialize_population(self):\n",
        "        while len(self.population) < self.population_size:\n",
        "            try:\n",
        "                individual = Individual_pa(self.network_links, self.start_node, self.end_nodes, generation=0, create_new=True)\n",
        "                self.population.append(individual)\n",
        "            except ValueError:\n",
        "                # If an individual with a feasible solution cannot be created, try again\n",
        "                continue\n",
        "        self.best_solution = self.population[0]\n",
        "\n",
        "    def fast_non_dominated_sort(self, population):\n",
        "        # Create a set to store unique chromosomes\n",
        "        unique_chromosomes = set()\n",
        "        first_front = []\n",
        "\n",
        "        for p in population:\n",
        "            p.domination_count = 0\n",
        "            p.dominated_solutions = set()\n",
        "            for q in population:\n",
        "                if p.dominates(q):\n",
        "                    p.dominated_solutions.add(q)\n",
        "                elif q.dominates(p):\n",
        "                    p.domination_count += 1\n",
        "            # Check for uniqueness and rank 0 (no dominations) to add to the first front\n",
        "            if p.domination_count == 0 and str(p.chromosome) not in unique_chromosomes:\n",
        "                p.rank = 1\n",
        "                first_front.append(p)\n",
        "                unique_chromosomes.add(str(p.chromosome))\n",
        "\n",
        "            # The while loop part was removed because it's used to get the other fronts,\n",
        "            # but we're only interested in the first front, so no need for the while loop part\n",
        "\n",
        "        return first_front\n",
        "\n",
        "\n",
        "    def solve(self, mutation_probability, number_of_generations):\n",
        "        self.initialize_population()\n",
        "\n",
        "        # Sort the initialized population into Pareto fronts\n",
        "        first_pareto_front = self.fast_non_dominated_sort(self.population)\n",
        "\n",
        "        for generation in range(number_of_generations):\n",
        "\n",
        "            # Mutate the current solutions in the first Pareto front\n",
        "            mutants = []\n",
        "            for ind in first_pareto_front:\n",
        "                # Clone the original individual for independent mutations\n",
        "                mutant_1 = deepcopy(ind)\n",
        "                mutant_2 = deepcopy(ind)\n",
        "                mutant_3 = deepcopy(ind)\n",
        "                mutant_4 = deepcopy(ind)\n",
        "\n",
        "                # Apply the first mutation and append to mutants list\n",
        "                mutant_1.inversion_mutation(mutation_probability)\n",
        "                mutants.append(mutant_1)\n",
        "\n",
        "                # Apply the second mutation and append to mutants list\n",
        "                mutant_2.reduce_latency_mutation(mutation_probability)\n",
        "                mutants.append(mutant_2)\n",
        "\n",
        "                # Apply the third mutation and append to mutants list\n",
        "                mutant_3.modified_swap_mutation(mutation_probability, n=50)\n",
        "                mutants.append(mutant_3)\n",
        "\n",
        "                # Apply all three mutations in sequence and append to mutants list\n",
        "                mutant_4.inversion_mutation(mutation_probability)\n",
        "                mutant_4.modified_swap_mutation(mutation_probability, n=20)\n",
        "                mutant_4.reduce_latency_mutation(mutation_probability)\n",
        "                mutants.append(mutant_4)\n",
        "\n",
        "            # Combine the population of the parents and mutants and compute their fitness\n",
        "            combined_population = self.population + mutants\n",
        "            for individual in combined_population:\n",
        "                individual.calculate_fitness()\n",
        "                # update the generation count\n",
        "                individual.generation += 1\n",
        "\n",
        "            # Arrange them into Pareto fronts\n",
        "            first_pareto_front = self.fast_non_dominated_sort(combined_population)\n",
        "\n",
        "            # Replace the archive with unique solutions from the first Pareto front\n",
        "            self.population = first_pareto_front\n",
        "\n",
        "            # Collect individuals in the first Pareto front for this generation\n",
        "            current_pareto_front = self.population\n",
        "            self.generational_pareto_fronts.append(current_pareto_front)\n",
        "\n",
        "\n",
        "\n",
        "        # Return the first Pareto front, fitnesses of the first pareto front, and the first pareto fronts of the generations\n",
        "        return first_pareto_front, [individual.fitness_scores for individual in first_pareto_front], self.generational_pareto_fronts\n",
        "\n",
        "\n",
        "    def collect_all_routes(self):\n",
        "        all_routes = {}\n",
        "\n",
        "        for car_index in tqdm(range(1, 101), desc='Collecting routes'):\n",
        "            start_node = f\"Car-{car_index}\"\n",
        "            self.start_node = start_node  # Update start node for each run\n",
        "            self.population = []  # Reset population for each run\n",
        "            pareto_front, x, y = self.solve(mutation_probability, number_of_generations)\n",
        "\n",
        "            # Initialize the dictionary for the current start node only once\n",
        "            all_routes[start_node] = {}\n",
        "\n",
        "            # Collect detailed routing paths for each solution\n",
        "            for ind_index, individual in enumerate(pareto_front):\n",
        "                route_details = {\n",
        "                    \"Routing Path\": '',\n",
        "                    \"End-to-end data rate\": individual.fitness_scores['transmission_rate'],\n",
        "                    \"Latency\": individual.fitness_scores['latency']\n",
        "                }\n",
        "\n",
        "                # Manually construct the routing path string\n",
        "                routing_path_list = []\n",
        "                for i in range(len(individual.used_nodes) - 1):\n",
        "                    node = individual.used_nodes[i]\n",
        "                    next_node = individual.used_nodes[i+1]\n",
        "                    for link in self.network_links:\n",
        "                        if (link.start_node == node and link.end_node == next_node) or \\\n",
        "                          (link.start_node == next_node and link.end_node == node):\n",
        "                            routing_path_list.append(f\"({node})\")\n",
        "                            routing_path_list.append(f\"{link.transmission_rate}\")\n",
        "                            break\n",
        "                # Add the last node which is the base station\n",
        "                routing_path_list.append(f\"({individual.used_nodes[-1]})\")\n",
        "                route_details[\"Routing Path\"] = \", \".join(routing_path_list)\n",
        "\n",
        "                # Add this route to the all_routes dictionary under the appropriate solution key\n",
        "                node_solution_key = f\"Solution {ind_index + 1}\"\n",
        "                all_routes[start_node][node_solution_key] = route_details\n",
        "\n",
        "        # Return all routes\n",
        "        return all_routes\n"
      ]
    },
    {
      "cell_type": "markdown",
      "metadata": {
        "id": "oEBGr8_XC5vO"
      },
      "source": [
        "### Testing the PAES algorithm"
      ]
    },
    {
      "cell_type": "code",
      "execution_count": null,
      "metadata": {
        "colab": {
          "base_uri": "https://localhost:8080/"
        },
        "id": "tTU6I5xoC-02",
        "outputId": "ef541d18-8f6b-4358-c8e8-1fc151ffebe9"
      },
      "outputs": [
        {
          "output_type": "stream",
          "name": "stdout",
          "text": [
            "Fitness Scores: {'transmission_rate': 1, 'latency': 50}, Used Nodes: ['Car-50', 'BS-2']\n"
          ]
        }
      ],
      "source": [
        "# Parameters for the PAES algorithm\n",
        "population_size = 10\n",
        "mutation_probability = 0.99\n",
        "number_of_generations = 10\n",
        "start_node = 'Car-50'\n",
        "\n",
        "# Initialize and run the PAES algorithm\n",
        "pa = PaesAlgorithm(population_size, network_links_list, start_node)\n",
        "first_pareto_front, x, y = pa.solve(mutation_probability, number_of_generations)\n",
        "for individual in first_pareto_front:\n",
        "    print(f\"Fitness Scores: {individual.fitness_scores}, Used Nodes: {individual.used_nodes}\")\n"
      ]
    },
    {
      "cell_type": "markdown",
      "source": [
        "### Collext Routes into JSON file"
      ],
      "metadata": {
        "id": "Lw5W-wsMzYAB"
      }
    },
    {
      "cell_type": "markdown",
      "source": [
        "The parameters set here is what was used for getting the routes in the JSON file for PAES"
      ],
      "metadata": {
        "id": "l52-xO14dSGO"
      }
    },
    {
      "cell_type": "code",
      "source": [
        "# Parameters for the PAES algorithm\n",
        "population_size = 50\n",
        "mutation_probability = 0.99\n",
        "number_of_generations = 14\n",
        "\n",
        "# Initialize the PAES algorithm\n",
        "pa = PaesAlgorithm(population_size, network_links_list, mutation_probability, number_of_generations)\n",
        "\n",
        "# Collect all routes\n",
        "all_routes = pa.collect_all_routes()\n",
        "\n",
        "# Output the collected information to a JSON file\n",
        "with open('optimized_routes_PAES.json', 'w') as json_file:\n",
        "    json.dump(all_routes, json_file, indent=4)\n"
      ],
      "metadata": {
        "id": "U0GnhRPY3b6Y",
        "colab": {
          "base_uri": "https://localhost:8080/"
        },
        "outputId": "28991115-8d01-45e4-d907-7a37a50bd273"
      },
      "execution_count": null,
      "outputs": [
        {
          "output_type": "stream",
          "name": "stderr",
          "text": [
            "Collecting routes: 100%|██████████| 100/100 [01:03<00:00,  1.58it/s]\n"
          ]
        }
      ]
    },
    {
      "cell_type": "markdown",
      "source": [
        "# Evaluation"
      ],
      "metadata": {
        "id": "bNJym8zS_7SH"
      }
    },
    {
      "cell_type": "markdown",
      "source": [
        "### Evaluation methods used and Justification"
      ],
      "metadata": {
        "id": "wp3m9En6YVX8"
      }
    },
    {
      "cell_type": "markdown",
      "source": [
        "To evaluate the performance of the two multi-objective algorithms, it is essential to consider the objectives every multi-objective algorithm should address. According to Zitzler et al. (2000) and Coello et al. (2004), these objectives are typically categorized into three main goals:  \n",
        "\n",
        "1. Minimize the distance between the Pareto front generated by the algorithm and the global Pareto front, assuming the location of the global Pareto front is known.  \n",
        "2. Maximize the diversity of the discovered solutions, ensuring the distribution of solution vectors is as even and widespread as possible.  \n",
        "3. Identify as many solutions as possible that belong to the optimal Pareto set.  \n",
        "\n",
        "To evaluate and compare the performance of both algorithms in this problem, four metrics were adopted: **Convergence**, **Number of Non-Dominated Individuals**, **Computational Time**, and **Computational Complexity**. These metrics are explained below:  \n",
        "\n",
        "---\n",
        "\n",
        "**1. Convergence**  \n",
        "Tracking convergence in multi-objective optimization is more complex than in single-objective optimization.  \n",
        "- For single-objective optimization, tracking involves monitoring the best individual across generations (e.g., the best transmission rate).  \n",
        "- In multi-objective optimization, there is no single best individual.  \n",
        "\n",
        "**Approaches Used**:  \n",
        "- One method involves visualizing the evolution of Pareto fronts across generations. However, with large numbers of solutions, these plots can become cluttered and difficult to interpret.  \n",
        "- Another approach focuses on individual metrics. This method tracks the performance of:  \n",
        "  - The best transmission rate among individuals in the first Pareto front of each generation.  \n",
        "  - The best latency among individuals in the first Pareto front of each generation.  \n",
        "\n",
        "This approach was adopted, enabling the tracking of how transmission rates and latency evolved over generations.  \n",
        "\n",
        "---\n",
        "\n",
        "**2. Number of Non-Dominated Solutions**  \n",
        "This metric evaluates which algorithm produces the most non-dominated individuals.  \n",
        "- The first Pareto fronts produced by both algorithms are combined, and a **`fast_non_dominated_sort`** is performed on the combined population.  \n",
        "- This process eliminates dominated individuals from the combined population.  \n",
        "- The number of individuals originating from each algorithm (NSGA-II and PAES) in the final combined first Pareto front is then counted.  \n",
        "\n",
        "This method identifies which algorithm produces a higher number of non-dominated individuals.  \n",
        "\n",
        "---\n",
        "\n",
        "**3. Computational Time**  \n",
        "This metric measures the time required by each algorithm to find the routing paths.  \n",
        "\n",
        "---\n",
        "\n",
        "**4. Computational Complexity**  \n",
        "This qualitative metric compares the computational complexity of implementing both algorithms.  \n",
        "\n",
        "---\n"
      ],
      "metadata": {
        "id": "bVZ9jWnd__Hr"
      }
    },
    {
      "cell_type": "markdown",
      "source": [
        "In the evaluation, a single node, Car-23, was used to perform the analysis because it yielded a higher number of non-dominated solutions. (Other nodes were also tested, and the results were similar; only one node was chosen to simplify the report.)  \n",
        "\n",
        "For the **Number of Non-Dominated Solutions** and **Computational Time** metrics, evaluations were conducted for each algorithm run over 20 runs.  \n",
        "\n",
        "For the **Convergence** metric, the evaluation focused on the last run. This approach was chosen because the interest lies in tracking the performance of transmission rate and latency across generations within a single run, rather than across all generations over 20 runs.  "
      ],
      "metadata": {
        "id": "xpHZqLzUYkcY"
      }
    },
    {
      "cell_type": "markdown",
      "source": [
        "A separate function, **`fast_non_dominated_sort_eval`**, was developed to handle the **`fast_non_dominated_sort`** for the combined population of individuals from both algorithms. This was necessary because the individuals from PAES and the Genetic Algorithm (GA) are structurally different, making the **`fast_non_dominated_sort`** method of each algorithm unsuitable for interchangeability.  \n",
        "\n",
        "The **`fast_non_dominated_sort_eval`** function mirrors the **`fast_non_dominated_sort`** method from PAES, with the while loop removed since the evaluation focuses only on the first Pareto front of the combined population.  "
      ],
      "metadata": {
        "id": "kslO-Xeft5wI"
      }
    },
    {
      "cell_type": "markdown",
      "source": [
        "### Function to rank individuals from both GA and PAES"
      ],
      "metadata": {
        "id": "JqPYnT6SbO3t"
      }
    },
    {
      "cell_type": "code",
      "source": [
        "def fast_non_dominated_sort_eval(population):\n",
        "    # unique_chromosomes = set()\n",
        "    first_front = []\n",
        "\n",
        "    for p in population:\n",
        "        p.domination_count = 0\n",
        "        p.dominated_solutions = set()\n",
        "        for q in population:\n",
        "            if p.dominates(q):\n",
        "                p.dominated_solutions.add(q)\n",
        "            elif q.dominates(p):\n",
        "                p.domination_count += 1\n",
        "        # if p.domination_count == 0 and str(p.chromosome) not in unique_chromosomes:\n",
        "        if p.domination_count == 0:\n",
        "            p.rank = 1\n",
        "            first_front.append(p)\n",
        "            # unique_chromosomes.add(str(p.chromosome))\n",
        "\n",
        "    return first_front\n"
      ],
      "metadata": {
        "id": "1_AgA7pYbqP2"
      },
      "execution_count": null,
      "outputs": []
    },
    {
      "cell_type": "markdown",
      "source": [
        "### Convergence, Computational time and Number of non dominated individuals for both GeneticAlgorithm and PAES"
      ],
      "metadata": {
        "id": "wBnvLAe52WUr"
      }
    },
    {
      "cell_type": "code",
      "source": [
        "# Parameters for the algorithms\n",
        "population_size = 20\n",
        "mutation_probability = 0.99\n",
        "number_of_generations = 20\n",
        "num_runs = 20\n",
        "start_node = 'Car-23'\n",
        "\n",
        "# Initialize statistics lists\n",
        "pa_times = []\n",
        "ga_times = []\n",
        "pa_pareto_counts = []\n",
        "ga_pareto_counts = []\n",
        "\n",
        "# Initialize lists to store best transmission rates and latencies for each generation\n",
        "pa_best_transmission_rates = []\n",
        "pa_best_latencies = []\n",
        "ga_best_transmission_rates = []\n",
        "ga_best_latencies = []\n",
        "\n",
        "# Run the algorithm multiple times\n",
        "for run in range(num_runs):\n",
        "    # Time and run the PAES algorithm\n",
        "    start_time = time.time()\n",
        "    pa = PaesAlgorithm(population_size, network_links_list, start_node)\n",
        "    pa_front, pa_fitnesses, pa_generational_fronts = pa.solve(mutation_probability, number_of_generations)\n",
        "    pa_times.append(time.time() - start_time)\n",
        "\n",
        "\n",
        "    # Time and run the NSGA algorithm\n",
        "    start_time = time.time()\n",
        "    ga = GeneticAlgorithm(population_size, network_links_list, start_node)\n",
        "    ga_front, ga_fitnesses, ga_generational_fronts = ga.solve(0.2, number_of_generations)\n",
        "    ga_times.append(time.time() - start_time)\n",
        "\n",
        "    # Combine the pareto fronts from PAES and GA\n",
        "    combined_pareto_front = pa_front + ga_front\n",
        "\n",
        "    sorted_combined_front = fast_non_dominated_sort_eval(combined_pareto_front)\n",
        "\n",
        "    pa_count = sum(1 for individual in sorted_combined_front if individual.algorithm == 'PA')\n",
        "    ga_count = sum(1 for individual in sorted_combined_front if individual.algorithm == 'GA')\n",
        "    pa_pareto_counts.append(pa_count)\n",
        "    ga_pareto_counts.append(ga_count)\n",
        "\n",
        "\n",
        "# Collect best transmission rates and latencies of the last run for PAES\n",
        "for front in pa_generational_fronts:\n",
        "    best_transmission_rate = max(individual.fitness_scores['transmission_rate'] for individual in front)\n",
        "    best_latency = min(individual.fitness_scores['latency'] for individual in front)\n",
        "    pa_best_transmission_rates.append(best_transmission_rate)\n",
        "    pa_best_latencies.append(best_latency)\n",
        "\n",
        "# Collect best transmission rates and latencies of the last run  for NSGA\n",
        "for front in ga_generational_fronts:\n",
        "    best_transmission_rate = max(individual.fitness_scores['transmission_rate'] for individual in front)\n",
        "    best_latency = min(individual.fitness_scores['latency'] for individual in front)\n",
        "    ga_best_transmission_rates.append(best_transmission_rate)\n",
        "    ga_best_latencies.append(best_latency)\n",
        "\n",
        "# Function to calculate the computational time\n",
        "def calculate_statistics(values):\n",
        "    return {\n",
        "        'Best': round(min(values), 2),\n",
        "        'Worst': round(max(values), 2),\n",
        "        'Average': round(np.mean(values), 2),\n",
        "        'Median': round(np.median(values), 2),\n",
        "        'Std. Dev.': round(np.std(values), 2)\n",
        "    }\n",
        "\n",
        "# Function to calculate no of individuals in combined non dominated pareto front\n",
        "def pareto_count(values):\n",
        "    return {\n",
        "        'Best': round(max(values), 2),\n",
        "        'Worst': round(min(values), 2),\n",
        "        'Average': round(np.mean(values), 2),\n",
        "        'Median': round(np.median(values), 2),\n",
        "        'Std. Dev.': round(np.std(values), 2)\n",
        "    }\n",
        "\n",
        "# Function to create the table\n",
        "def create_results_table(title, ga_stats, paes_stats):\n",
        "    # Create a DataFrame from the statistics dictionaries\n",
        "    data = {\n",
        "        'Stats': ['Best', 'Worst', 'Average', 'Median', 'Std. Dev.'],\n",
        "        'GA': [round(value, 2) for value in ga_stats.values()],\n",
        "        'PAES': [round(value, 2) for value in paes_stats.values()]\n",
        "    }\n",
        "    df = pd.DataFrame(data)\n",
        "\n",
        "    # Convert DataFrame\n",
        "    table = tabulate(df, headers='keys', tablefmt='fancy_grid', showindex=False)\n",
        "    print(title)\n",
        "    print(table)\n",
        "\n",
        "# computational time dictionaries\n",
        "ga_times_stats = calculate_statistics(ga_times)\n",
        "pa_times_stats = calculate_statistics(pa_times)\n",
        "\n",
        "# pareto count dictionaries\n",
        "ga_pareto_counts_stats = pareto_count(ga_pareto_counts)\n",
        "pa_pareto_counts_stats = pareto_count(pa_pareto_counts)\n",
        "\n",
        "\n",
        "# Create and print the metric tables\n",
        "create_results_table('COMPUTATIONAL TIME METRIC', ga_times_stats, pa_times_stats) # time\n",
        "create_results_table('PARETO COUNT METRIC', ga_pareto_counts_stats, pa_pareto_counts_stats) # pareto\n"
      ],
      "metadata": {
        "id": "dB0pRpH_OvmR",
        "colab": {
          "base_uri": "https://localhost:8080/"
        },
        "outputId": "8f7452cc-634b-4bda-c54e-f75e1b30bca9"
      },
      "execution_count": null,
      "outputs": [
        {
          "output_type": "stream",
          "name": "stdout",
          "text": [
            "COMPUTATIONAL TIME METRIC\n",
            "╒═══════════╤══════╤════════╕\n",
            "│ Stats     │   GA │   PAES │\n",
            "╞═══════════╪══════╪════════╡\n",
            "│ Best      │ 0.5  │ 143.98 │\n",
            "├───────────┼──────┼────────┤\n",
            "│ Worst     │ 2.86 │ 262.25 │\n",
            "├───────────┼──────┼────────┤\n",
            "│ Average   │ 1.14 │ 183.71 │\n",
            "├───────────┼──────┼────────┤\n",
            "│ Median    │ 1.07 │ 177.35 │\n",
            "├───────────┼──────┼────────┤\n",
            "│ Std. Dev. │ 0.53 │  27.34 │\n",
            "╘═══════════╧══════╧════════╛\n",
            "PARETO COUNT METRIC\n",
            "╒═══════════╤══════╤════════╕\n",
            "│ Stats     │   GA │   PAES │\n",
            "╞═══════════╪══════╪════════╡\n",
            "│ Best      │  1   │ 217    │\n",
            "├───────────┼──────┼────────┤\n",
            "│ Worst     │  0   │ 212    │\n",
            "├───────────┼──────┼────────┤\n",
            "│ Average   │  0.2 │ 216.75 │\n",
            "├───────────┼──────┼────────┤\n",
            "│ Median    │  0   │ 217    │\n",
            "├───────────┼──────┼────────┤\n",
            "│ Std. Dev. │  0.4 │   1.09 │\n",
            "╘═══════════╧══════╧════════╛\n"
          ]
        }
      ]
    },
    {
      "cell_type": "markdown",
      "source": [
        "### Visual representation of the Metrics"
      ],
      "metadata": {
        "id": "AcQp7hDi_4ma"
      }
    },
    {
      "cell_type": "markdown",
      "source": [
        "Funtions to plot the convergence, computational time, and number of pareto individuals in first front"
      ],
      "metadata": {
        "id": "LB0qxg1Y0B53"
      }
    },
    {
      "cell_type": "code",
      "source": [
        "def plot_transmission_rate_convergence(pa_best_transmission_rates, ga_best_transmission_rates):\n",
        "    plt.figure(figsize=(7, 5))\n",
        "    plt.plot(pa_best_transmission_rates, 'o-', label='PAES Tranmission rate')\n",
        "    plt.plot(ga_best_transmission_rates, 's-', label='GA Tranmission rate')\n",
        "    plt.title('Convergence of Transmission rate Comparison')\n",
        "    plt.xlabel('Number of generations')\n",
        "    plt.ylabel('Tranmission rate (mbps)')\n",
        "    plt.legend()\n",
        "    plt.show()\n",
        "\n",
        "def plot_latencies_convergence(pa_best_latencies, ga_best_latencies):\n",
        "    plt.figure(figsize=(7, 5))\n",
        "    plt.plot(pa_best_latencies, 'o-', label='PAES Latencies')\n",
        "    plt.plot(ga_best_latencies, 's-', label='GA Latencies')\n",
        "    plt.title('Convergence of Latency Comparison')\n",
        "    plt.xlabel('Number of generations')\n",
        "    plt.ylabel('Latencies (ms)')\n",
        "    plt.legend()\n",
        "    plt.show()\n",
        "\n",
        "def plot_computational_times(pa_times, ga_times):\n",
        "    plt.figure(figsize=(7, 5))\n",
        "    plt.plot(pa_times, 'o-', label='PAES Computational Time')\n",
        "    plt.plot(ga_times, 's-', label='GA Computational Time')\n",
        "    plt.title('Computational Time Comparison')\n",
        "    plt.xlabel('Run Number')\n",
        "    plt.ylabel('Time (seconds)')\n",
        "    plt.legend()\n",
        "    plt.show()\n",
        "\n",
        "def plot_pareto_counts(pa_pareto_counts, ga_pareto_counts):\n",
        "    plt.figure(figsize=(7, 4))\n",
        "    plt.plot(pa_pareto_counts, 'o-', label='PAES Pareto Count')\n",
        "    plt.plot(ga_pareto_counts, 's-', label='GA Pareto Count')\n",
        "    plt.title('Pareto Front Count Comparison')\n",
        "    plt.xlabel('Run Number')\n",
        "    plt.ylabel('Pareto Count')\n",
        "    plt.legend()\n",
        "    plt.show()"
      ],
      "metadata": {
        "id": "-g_CTWW4Rzzk"
      },
      "execution_count": null,
      "outputs": []
    },
    {
      "cell_type": "code",
      "source": [
        "# Plot the convergence of the transmission rate over the last run\n",
        "plot_transmission_rate_convergence(pa_best_transmission_rates, ga_best_transmission_rates)"
      ],
      "metadata": {
        "colab": {
          "base_uri": "https://localhost:8080/",
          "height": 487
        },
        "id": "5DE-LryQwZEL",
        "outputId": "405285d2-683b-445f-cae3-309d606d45df"
      },
      "execution_count": null,
      "outputs": [
        {
          "output_type": "display_data",
          "data": {
            "text/plain": [
              "<Figure size 700x500 with 1 Axes>"
            ],
            "image/png": "[encoded data removed]"
          },
          "metadata": {}
        }
      ]
    },
    {
      "cell_type": "code",
      "source": [
        "# Plot the convergence of the latency over the last run\n",
        "plot_latencies_convergence(pa_best_latencies, ga_best_latencies)"
      ],
      "metadata": {
        "colab": {
          "base_uri": "https://localhost:8080/",
          "height": 487
        },
        "id": "WbupUacDwY4o",
        "outputId": "3bd014f8-963d-40cd-a075-a5a1c236905f"
      },
      "execution_count": null,
      "outputs": [
        {
          "output_type": "display_data",
          "data": {
            "text/plain": [
              "<Figure size 700x500 with 1 Axes>"
            ],
            "image/png": "[encoded data removed]"
          },
          "metadata": {}
        }
      ]
    },
    {
      "cell_type": "code",
      "source": [
        "# Plot the computational times over 20 runs\n",
        "plot_computational_times(pa_times, ga_times)"
      ],
      "metadata": {
        "colab": {
          "base_uri": "https://localhost:8080/",
          "height": 487
        },
        "id": "RCY0-UlBzyBN",
        "outputId": "5049d69d-ea51-4f90-c43e-c8b1bf362fed"
      },
      "execution_count": null,
      "outputs": [
        {
          "output_type": "display_data",
          "data": {
            "text/plain": [
              "<Figure size 700x500 with 1 Axes>"
            ],
            "image/png": "[encoded data removed]"
          },
          "metadata": {}
        }
      ]
    },
    {
      "cell_type": "code",
      "source": [
        "# Plot the number of non dominated solutions produced over 20 runs\n",
        "plot_pareto_counts(pa_pareto_counts, ga_pareto_counts)"
      ],
      "metadata": {
        "colab": {
          "base_uri": "https://localhost:8080/",
          "height": 410
        },
        "id": "_gXEsahy03-v",
        "outputId": "65b9cd38-94be-4161-ba0d-c78e19a697bc"
      },
      "execution_count": null,
      "outputs": [
        {
          "output_type": "display_data",
          "data": {
            "text/plain": [
              "<Figure size 700x400 with 1 Axes>"
            ],
            "image/png": "[encoded data removed]"
          },
          "metadata": {}
        }
      ]
    },
    {
      "cell_type": "markdown",
      "source": [
        "Plot of Pareto front for the last run of both algorithm"
      ],
      "metadata": {
        "id": "5lhOqwK7yGJT"
      }
    },
    {
      "cell_type": "code",
      "source": [
        "# Plot of Pareto front for the last run of both algorithm\n",
        "def plot_pareto_fronts(pa_fitnesses, ga_fitnesses):\n",
        "    # Extract transmission rate and latency from fitnesses for PAES\n",
        "    pa_transmission_rates = [fitness['transmission_rate'] for fitness in pa_fitnesses]\n",
        "    pa_latencies = [fitness['latency'] for fitness in pa_fitnesses]\n",
        "\n",
        "    # Extract transmission rate and latency from fitnesses for GA\n",
        "    ga_transmission_rates = [fitness['transmission_rate'] for fitness in ga_fitnesses]\n",
        "    ga_latencies = [fitness['latency'] for fitness in ga_fitnesses]\n",
        "\n",
        "    plt.figure(figsize=(7, 4))\n",
        "\n",
        "    # Plot PAES Pareto front with a line if more than one point\n",
        "    if len(pa_transmission_rates) > 1:\n",
        "        plt.plot(pa_transmission_rates, pa_latencies, 'o-', color='blue', label='PAES Pareto Front')\n",
        "    else:\n",
        "        plt.scatter(pa_transmission_rates, pa_latencies, c='blue', marker='o', label='PAES Pareto Front')\n",
        "\n",
        "    # Plot GA Pareto front with a line if more than one point\n",
        "    if len(ga_transmission_rates) > 1:\n",
        "        plt.plot(ga_transmission_rates, ga_latencies, 's-', color='red', label='GA Pareto Front')\n",
        "    else:\n",
        "        plt.scatter(ga_transmission_rates, ga_latencies, c='red', marker='s', label='GA Pareto Front')\n",
        "\n",
        "    plt.title('Pareto Front Comparison')\n",
        "    plt.xlabel('Transmission Rate')\n",
        "    plt.ylabel('Latency')\n",
        "    plt.legend(loc='upper center', bbox_to_anchor=(0.5, -0.15), shadow=True, ncol=2)\n",
        "    plt.grid(True)\n",
        "    plt.show()\n",
        "\n",
        "# Call the function with the fitnesses from the last run\n",
        "plot_pareto_fronts(pa_fitnesses, ga_fitnesses)"
      ],
      "metadata": {
        "id": "fH0h8sxkyPM4",
        "colab": {
          "base_uri": "https://localhost:8080/",
          "height": 445
        },
        "outputId": "ae1e472c-e731-4700-fd3d-d2a25fdb72a1"
      },
      "execution_count": null,
      "outputs": [
        {
          "output_type": "display_data",
          "data": {
            "text/plain": [
              "<Figure size 700x400 with 1 Axes>"
            ],
            "image/png": "[encoded data removed]"
          },
          "metadata": {}
        }
      ]
    },
    {
      "cell_type": "markdown",
      "source": [
        "### Discussion of Results"
      ],
      "metadata": {
        "id": "9GoquMG7R1Sw"
      }
    },
    {
      "cell_type": "markdown",
      "source": [
        "**Convergence**  \n",
        "\n",
        "In the convergence plots for the transmission rate, both algorithms converged at nearly the same time.  \n",
        "\n",
        "However, in the latency convergence plots, PAES demonstrated better performance, converging to a lower latency value than NSGA-II. NSGA-II did not reach the same level of convergence as PAES. This difference may indicate the effectiveness of the **reduce latency mutation** developed and used as one of the mutations in PAES.\n",
        "\n",
        "---\n"
      ],
      "metadata": {
        "id": "tBoaCnYvBQTo"
      }
    },
    {
      "cell_type": "markdown",
      "source": [
        "**Number of Non-Dominated Solutions**  \n",
        "\n",
        "From the plot of the number of non-dominated solutions, it is evident that the PAES algorithm generally produces more non-dominated solutions compared to NSGA-II. In some instances, the difference between the two algorithms is significantly high.  \n",
        "\n",
        "This disparity is even more pronounced when examining the JSON output files for both algorithms. For instance, in the PAES JSON file, Car-28 identified over 500 non-dominated solutions and exhibited similar results for other nodes. Conversely, in the NSGA-II JSON file, the number of non-dominated solutions for any node never exceeded 10.  \n",
        "\n",
        "The substantial difference in the number of non-dominated solutions may be attributed to:  \n",
        "1. The modification made to the PAES algorithm, allowing it to retain as many non-dominated solutions as possible.  \n",
        "2. The two novel mutation methods introduced, particularly the **reduce latency mutation** and **modified swap mutation**.  \n",
        "\n",
        "Further experimentation is necessary to determine the precise factors enabling PAES to discover a significantly higher number of non-dominated solutions compared to NSGA-II.  \n",
        "\n",
        "---\n"
      ],
      "metadata": {
        "id": "PEtgosDGBmER"
      }
    },
    {
      "cell_type": "markdown",
      "source": [
        "**Computational Time**\n",
        "\n",
        "From the compuation time plot, we can see that generally the PAES took more time to complete each run when compared against the NSGA-II algorithm, and also in some rare instances the time it took for the PAES was extremely long when compared to the NSGA-II, this coincides with times where the PAES found extremely high number of non dominated solution as compared with the other NSGA-II\n",
        "\n",
        "---\n"
      ],
      "metadata": {
        "id": "x9pbsprkBKl7"
      }
    },
    {
      "cell_type": "markdown",
      "source": [
        "**Computational Complexity**  \n",
        "\n",
        "The implementation of both algorithms reveals that the modified PAES algorithm developed has a simpler implementation compared to NSGA-II. NSGA-II requires more complex operations, such as crowding distance calculation, crossover, and selection, while PAES is comparatively more straightforward.  \n",
        "\n",
        "---"
      ],
      "metadata": {
        "id": "ZBQwkQVBRwKN"
      }
    },
    {
      "cell_type": "markdown",
      "source": [
        "### Lessons Learned and Future Reccommendation"
      ],
      "metadata": {
        "id": "gEqZXnlfGi9Y"
      }
    },
    {
      "cell_type": "markdown",
      "source": [
        "**Lessons Learned**  \n",
        "\n",
        "1. Different multi-objective evolutionary algorithms have varying strengths and weaknesses, with some better suited for specific types of problems. Understanding the nature of the problem is crucial for selecting the appropriate algorithm.  \n",
        "\n",
        "2. NSGA-II emphasizes maintaining diversity across the Pareto front, while PAES focuses more on exploring local search.  \n",
        "\n",
        "3. The performance of both NSGA-II and PAES is highly sensitive to parameters such as population size, mutation rate, and the number of generations. Fine-tuning these parameters is critical for achieving optimal results.  \n",
        "\n",
        "4. PAES has a simpler implementation compared to NSGA-II, which requires more complex operations such as crowding distance calculation, crossover, and selection.  \n",
        "\n",
        "5. NSGA-II provided a better spread of solutions, while PAES identified more solutions but with less diversity.  \n",
        "\n",
        "---\n",
        "\n",
        "**Future Recommendations**  \n",
        "\n",
        "1. Test the Genetic Algorithm with both of the newly developed mutation methods. This will help determine whether the high number of non-dominated solutions identified by PAES is due to the algorithm itself or the new mutation methods.  \n",
        "\n",
        "2. Test the PAES algorithm using only the inversion mutation method from the Genetic Algorithm. This will further clarify whether the performance of PAES is primarily driven by the algorithm or the new mutation methods. Additionally, it will help identify whether the high computational time is due to the two new mutation methods.  \n",
        "\n",
        "3. Replace the **`Network_link_lists`** list with an array. Arrays in Python are typically faster than lists because they store data more compactly, perform operations using low-level optimizations, and avoid type-checking overhead. Using arrays may reduce computational time and improve memory efficiency for both algorithms.  \n",
        "\n",
        "4. Implement and evaluate other methods, such as Multi-Objective Particle Swarm Optimization (MOPSO), to compare performance with NSGA-II and PAES. This comparison will help assess whether the observed results are reflective of the algorithms' capabilities or if alternative methods perform better.  \n",
        "\n",
        "---\n"
      ],
      "metadata": {
        "id": "COGGy0DvGp4j"
      }
    },
    {
      "cell_type": "markdown",
      "source": [
        "### Achievement of Project Objectives"
      ],
      "metadata": {
        "id": "I6d_rCumGOft"
      }
    },
    {
      "cell_type": "markdown",
      "source": [
        "\n",
        "So far we have been able to achieve the project objectives we set out to achieve. We started with reviewing several methods that could be used to solve the multi objective problem, then we settled for two methods which are Genetic Algorithm and PAES, and we gave justification for choosing thes two methods. Next we implemented these two methods and collected all routes possible for each of the nodes using these two algorithms. We then proceeded to evaluate the algorithms and our evaluation made us discover that the PEAS algorithm actually produced more non dominated solutions compared to the Genetic Algorithm, although it took more time compared to the time it took for the Genetic Algorithm to run. Lastly we gave future reccomendations on how to proceed with the experiment, one of which is to try and implement the three mutation methods into the genetic algorithms and then see how the genetic algorithm performs.\n"
      ],
      "metadata": {
        "id": "I00Y5f4aGSD8"
      }
    },
    {
      "cell_type": "markdown",
      "source": [
        "### Achievement of a good Understanding of Search and Optimisation methods"
      ],
      "metadata": {
        "id": "Hbpx5ZofGSrG"
      }
    },
    {
      "cell_type": "markdown",
      "source": [
        "This project, which involved using NSGA-II and a modified PAES algorithm to address the network routing multi-objective optimization problem, provided valuable insights into optimization in real-world scenarios by:  \n",
        "\n",
        "1. Effectively applying appropriate algorithms for solving complex network optimization problems.  \n",
        "2. Deepening understanding of evolutionary algorithm mechanisms.  \n",
        "3. Building expertise in benchmarking algorithm performance.  \n",
        "4. Gaining practical experience in evaluating algorithm effectiveness.  \n",
        "5. Enhancing critical analysis and interpretation of algorithmic performance.  \n",
        "\n",
        "These outcomes contributed to a robust understanding of search and optimization benchmarking relevant to real-world applications.  "
      ],
      "metadata": {
        "id": "cs5JjtXtGf3w"
      }
    },
    {
      "cell_type": "markdown",
      "source": [
        "# References"
      ],
      "metadata": {
        "id": "CkMR0T59X6AH"
      }
    },
    {
      "cell_type": "markdown",
      "source": [
        "Reference list\n",
        "\n",
        "- Coello, C. A., Toscano-Pulido, G. and Lechuga, M. S., 2004. Handling multiple objectives with particle swarm optimization. IEEE Transactions on Evolutionary Computation [online], 8 (3), 256–279. Available from: https://ieeexplore.ieee.org/abstract/document/1304847?casa_token=RVlpfZAPkGkAAAAA:MGtknyVaMRJPuf3J7CYpwkGYcUKswasORuUiNDv7uY8EXrtNqdboq39-WJchaaATX2UT5nnGKQ [Accessed 15 Nov 2023].\n",
        "\n",
        "- Deb, K., 2011. Multi-objective Optimisation Using Evolutionary Algorithms: An Introduction. Springer eBooks [online], 3–34. Available from: https://link.springer.com/chapter/10.1007/978-0-85729-652-8_1 [Accessed 1 Oct 2023].\n",
        "\n",
        "- Deb, K., Pratap, A., Agarwal, S. and T. Meyarivan, 2002. A fast and elitist multiobjective genetic algorithm: NSGA-II. IEEE Transactions on Evolutionary Computation [online], 6 (2), 182–197. Available from: https://ieeexplore.ieee.org/abstract/document/996017?casa_token=xhb3Gc732OoAAAAA:O6v_-GcvInFKP6PcNGhGZ0-VlJdRcPlx_BIarg8OJCaOTD7ZgU6n3xZMPQUCSnlnotaoMQ19Fg [Accessed 11 Nov 2023].\n",
        "\n",
        "- Eckart Zitzler, Deb, K. and Thiele, L., 2000. Comparison of Multiobjective Evolutionary Algorithms: Empirical Results. Evolutionary Computation [online], 8 (2), 173–195. Available from: https://ieeexplore.ieee.org/abstract/document/6787994 [Accessed 25 Sep 2023].\n",
        "\n",
        "- Gunantara, N. and Ai , Q., 2018. A review of multi-objective optimization: Methods and its applications. Cogent Engineering [online]. Available from: https://www.tandfonline.com/doi/full/10.1080/23311916.2018.1502242 [Accessed 11 Nov 2023].\n",
        "\n",
        "- Knowles, J. and Corne, D., 2003a. The Pareto archived evolution strategy: a new baseline algorithm for Pareto multiobjective optimisation. Available from: https://ieeexplore.ieee.org/document/781913 [Accessed 17 Dec 2023].\n",
        "\n",
        "- Knowles, J. and Corne, D., 2003b. The Pareto archived evolution strategy: a new baseline algorithm for Pareto multiobjective optimisation. Available from: https://ieeexplore.ieee.org/abstract/document/781913 [Accessed 28 Nov 2023].\n",
        "\n",
        "- Lee, S., Sang-Moon Soak, Seung Jong Oh, Witold Pedrycz and Jeon, M., 2008. Modified binary particle swarm optimization. Progress in Natural Science: Materials International [online], 18 (9), 1161–1166. Available from: https://www.sciencedirect.com/science/article/pii/S1002007108002189 [Accessed 17 Dec 2023].\n",
        "\n",
        "- Mojtaba Ahmadieh Khanesar, Teshnehlab, M. and Mahdi Aliyari Shoorehdeli, 2007. A novel binary particle swarm optimization. Available from: https://ieeexplore.ieee.org/document/4433821 [Accessed 17 Dec 2023].\n",
        "\n",
        "- Oltean, M., Crina Groşan, Abraham, A. and Köppen, M., 2005. Multiobjective optimization using adaptive Pareto archived evolution strategy. Available from: https://ieeexplore.ieee.org/abstract/document/1578843?casa_token=Rj8_L61JiIgAAAAA:wOhns2KVx7s-HrhpTXsdF6g5XncxQPbbQtncs4XB0z91pmbqbu65ovGD6pTAweDFFTVPgAXaiw [Accessed 1 Dec 2023].\n",
        "\n",
        "- Puljić, K. and Manger, R., 2013. Comparison of eight evolutionary crossover operators for the vehicle routing problem. Mathematical Communications [online], 18 (2), 359–375. Available from: https://hrcak.srce.hr/110829 [Accessed 4 Oct 2023].\n",
        "\n",
        "- Seshadri, A., 2006. A fast elitist multiobjective genetic algorithm: NSGA-II.\n",
        "\n",
        "- MATLAB Central.Xiujuan, L. and Zhongke, S., 2004. Overview of multi-objective optimization methods [online]. Ieee.org. Available from: https://ieeexplore.ieee.org/abstract/document/6077796 [Accessed 15 Nov 2023]."
      ],
      "metadata": {
        "id": "RJE1KKoDX9x7"
      }
    }
  ],
  "metadata": {
    "colab": {
      "provenance": [],
      "toc_visible": true
    },
    "kernelspec": {
      "display_name": "Python 3",
      "name": "python3"
    },
    "language_info": {
      "name": "python"
    }
  },
  "nbformat": 4,
  "nbformat_minor": 0
}